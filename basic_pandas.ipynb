{
 "cells": [
  {
   "cell_type": "code",
   "execution_count": 2,
   "metadata": {
    "collapsed": false,
    "nbpresent": {
     "id": "96531654-79a6-462c-b075-ada5778873c9"
    },
    "run_control": {
     "frozen": false,
     "read_only": false
    },
    "slideshow": {
     "slide_type": "skip"
    }
   },
   "outputs": [],
   "source": [
    "%load_ext autoreload\n",
    "%autoreload 2\n",
    "\n",
    "%matplotlib inline\n",
    "import matplotlib.pyplot as plt\n",
    "import seaborn as sns\n",
    "plt.style.use(['seaborn-ticks', 'seaborn-talk'])\n",
    "\n",
    "import numpy as np\n",
    "import pandas as pd\n",
    "import xarray as xr\n",
    "\n",
    "pd.set_option('precision', 2)\n",
    "np.set_printoptions(precision=2, suppress=True, nanstr='nan', \n",
    "                    infstr='inf', threshold=5)"
   ]
  },
  {
   "cell_type": "markdown",
   "metadata": {
    "slideshow": {
     "slide_type": "skip"
    }
   },
   "source": [
    "# Preface / Setup\n",
    "\n",
    "Pre-load some of the USHCN daily data that we downloaded, so that we can use it in examples. We'll load in the TMAX, TMIN, PRCP data, as well as the station metadata.\n",
    "\n",
    "If you want to follow along with the presenation, you probably want to skip to the section \"What is pandas?\""
   ]
  },
  {
   "cell_type": "code",
   "execution_count": 3,
   "metadata": {
    "collapsed": false,
    "run_control": {
     "frozen": false,
     "read_only": false
    },
    "slideshow": {
     "slide_type": "skip"
    }
   },
   "outputs": [
    {
     "name": "stdout",
     "output_type": "stream",
     "text": [
      "Loading tmax\n",
      "Loading tmin\n",
      "Loading prcp\n"
     ]
    }
   ],
   "source": [
    "def load_data(field):\n",
    "    print(\"Loading \" + field)\n",
    "    df = (pd.read_pickle(\"data/ushcn2014_raw_{}.p\".format(field))\n",
    "            .set_index(['COOP_ID', 'date'])\n",
    "            .sortlevel()\n",
    "            .drop(['STATION', 'DM', 'QC', 'DS', 'YEAR', 'month'], axis=1))\n",
    "    return df\n",
    "\n",
    "tmax = load_data('tmax')\n",
    "tmin = load_data('tmin')\n",
    "prcp = load_data('prcp')\n",
    "stations = pd.read_pickle(\"data/ushcn-stations.p\")"
   ]
  },
  {
   "cell_type": "markdown",
   "metadata": {
    "slideshow": {
     "slide_type": "skip"
    }
   },
   "source": [
    "Merge the data together into a master, \"long-form\" dataset. Note that each **Series** is about 1.5 million entries long, and we'll concatenate along the common **Index** (really CCOP_ID-date **MultiIndex**). That's a *slightly* expensive operation, since we have to align all the data. It takes about 20 seconds on my 2010-era MacBook Pro with a 2.66 GHz Core I7 processor."
   ]
  },
  {
   "cell_type": "code",
   "execution_count": 8,
   "metadata": {
    "collapsed": false,
    "run_control": {
     "frozen": false,
     "read_only": false
    },
    "slideshow": {
     "slide_type": "skip"
    }
   },
   "outputs": [],
   "source": [
    "ushcn_data = pd.concat([tmax, tmin, prcp], axis=1)"
   ]
  },
  {
   "cell_type": "markdown",
   "metadata": {
    "slideshow": {
     "slide_type": "skip"
    }
   },
   "source": [
    "Additionally, merge the *tmax* data with the station data for some simple aggregation analysis later."
   ]
  },
  {
   "cell_type": "code",
   "execution_count": 5,
   "metadata": {
    "collapsed": false,
    "run_control": {
     "frozen": false,
     "read_only": false
    },
    "slideshow": {
     "slide_type": "skip"
    }
   },
   "outputs": [
    {
     "data": {
      "text/html": [
       "<div>\n",
       "<table border=\"1\" class=\"dataframe\">\n",
       "  <thead>\n",
       "    <tr style=\"text-align: right;\">\n",
       "      <th></th>\n",
       "      <th></th>\n",
       "      <th>tmax</th>\n",
       "      <th>LAT</th>\n",
       "      <th>LON</th>\n",
       "      <th>ELEV</th>\n",
       "      <th>STATE</th>\n",
       "      <th>NAME</th>\n",
       "      <th>COMP1</th>\n",
       "      <th>COMP2</th>\n",
       "      <th>COMP3</th>\n",
       "      <th>dUTC</th>\n",
       "    </tr>\n",
       "    <tr>\n",
       "      <th>COOP_ID</th>\n",
       "      <th>date</th>\n",
       "      <th></th>\n",
       "      <th></th>\n",
       "      <th></th>\n",
       "      <th></th>\n",
       "      <th></th>\n",
       "      <th></th>\n",
       "      <th></th>\n",
       "      <th></th>\n",
       "      <th></th>\n",
       "      <th></th>\n",
       "    </tr>\n",
       "  </thead>\n",
       "  <tbody>\n",
       "    <tr>\n",
       "      <th rowspan=\"5\" valign=\"top\">11084</th>\n",
       "      <th>1891-01-01</th>\n",
       "      <td>NaN</td>\n",
       "      <td>31.06</td>\n",
       "      <td>-87.05</td>\n",
       "      <td>25.9</td>\n",
       "      <td>AL</td>\n",
       "      <td>BREWTON 3 SSE</td>\n",
       "      <td>------</td>\n",
       "      <td>------</td>\n",
       "      <td>------</td>\n",
       "      <td>6</td>\n",
       "    </tr>\n",
       "    <tr>\n",
       "      <th>1891-02-01</th>\n",
       "      <td>NaN</td>\n",
       "      <td>31.06</td>\n",
       "      <td>-87.05</td>\n",
       "      <td>25.9</td>\n",
       "      <td>AL</td>\n",
       "      <td>BREWTON 3 SSE</td>\n",
       "      <td>------</td>\n",
       "      <td>------</td>\n",
       "      <td>------</td>\n",
       "      <td>6</td>\n",
       "    </tr>\n",
       "    <tr>\n",
       "      <th>1891-03-01</th>\n",
       "      <td>NaN</td>\n",
       "      <td>31.06</td>\n",
       "      <td>-87.05</td>\n",
       "      <td>25.9</td>\n",
       "      <td>AL</td>\n",
       "      <td>BREWTON 3 SSE</td>\n",
       "      <td>------</td>\n",
       "      <td>------</td>\n",
       "      <td>------</td>\n",
       "      <td>6</td>\n",
       "    </tr>\n",
       "    <tr>\n",
       "      <th>1891-04-01</th>\n",
       "      <td>NaN</td>\n",
       "      <td>31.06</td>\n",
       "      <td>-87.05</td>\n",
       "      <td>25.9</td>\n",
       "      <td>AL</td>\n",
       "      <td>BREWTON 3 SSE</td>\n",
       "      <td>------</td>\n",
       "      <td>------</td>\n",
       "      <td>------</td>\n",
       "      <td>6</td>\n",
       "    </tr>\n",
       "    <tr>\n",
       "      <th>1891-05-01</th>\n",
       "      <td>NaN</td>\n",
       "      <td>31.06</td>\n",
       "      <td>-87.05</td>\n",
       "      <td>25.9</td>\n",
       "      <td>AL</td>\n",
       "      <td>BREWTON 3 SSE</td>\n",
       "      <td>------</td>\n",
       "      <td>------</td>\n",
       "      <td>------</td>\n",
       "      <td>6</td>\n",
       "    </tr>\n",
       "  </tbody>\n",
       "</table>\n",
       "</div>"
      ],
      "text/plain": [
       "                    tmax    LAT    LON  ELEV STATE           NAME   COMP1  \\\n",
       "COOP_ID date                                                                \n",
       "11084   1891-01-01   NaN  31.06 -87.05  25.9    AL  BREWTON 3 SSE  ------   \n",
       "        1891-02-01   NaN  31.06 -87.05  25.9    AL  BREWTON 3 SSE  ------   \n",
       "        1891-03-01   NaN  31.06 -87.05  25.9    AL  BREWTON 3 SSE  ------   \n",
       "        1891-04-01   NaN  31.06 -87.05  25.9    AL  BREWTON 3 SSE  ------   \n",
       "        1891-05-01   NaN  31.06 -87.05  25.9    AL  BREWTON 3 SSE  ------   \n",
       "\n",
       "                     COMP2   COMP3  dUTC  \n",
       "COOP_ID date                              \n",
       "11084   1891-01-01  ------  ------     6  \n",
       "        1891-02-01  ------  ------     6  \n",
       "        1891-03-01  ------  ------     6  \n",
       "        1891-04-01  ------  ------     6  \n",
       "        1891-05-01  ------  ------     6  "
      ]
     },
     "execution_count": 5,
     "metadata": {},
     "output_type": "execute_result"
    }
   ],
   "source": [
    "tmax_merged = (\n",
    "    tmax.reset_index()\n",
    "        .join(stations, on='COOP_ID')\n",
    "        .set_index(['COOP_ID', 'date'])\n",
    ")\n",
    "tmax_merged.head()"
   ]
  },
  {
   "cell_type": "markdown",
   "metadata": {
    "slideshow": {
     "slide_type": "skip"
    }
   },
   "source": [
    "## Seattle\n",
    "\n",
    "Select some data from Seattle"
   ]
  },
  {
   "cell_type": "code",
   "execution_count": 9,
   "metadata": {
    "collapsed": false,
    "run_control": {
     "frozen": false,
     "read_only": false
    },
    "slideshow": {
     "slide_type": "skip"
    }
   },
   "outputs": [
    {
     "name": "stdout",
     "output_type": "stream",
     "text": [
      "LAT                      48\n",
      "LON                -1.2e+02\n",
      "ELEV                    5.8\n",
      "STATE                    WA\n",
      "NAME     SEATTLE URBAN SITE\n",
      "COMP1                457478\n",
      "COMP2                ------\n",
      "COMP3                ------\n",
      "dUTC                      8\n",
      "Name: 457458, dtype: object\n"
     ]
    }
   ],
   "source": [
    "seattle_id = 457458\n",
    "print(stations.loc[seattle_id])"
   ]
  },
  {
   "cell_type": "code",
   "execution_count": 10,
   "metadata": {
    "collapsed": false,
    "run_control": {
     "frozen": false,
     "read_only": false
    },
    "slideshow": {
     "slide_type": "skip"
    }
   },
   "outputs": [
    {
     "data": {
      "text/html": [
       "<div>\n",
       "<table border=\"1\" class=\"dataframe\">\n",
       "  <thead>\n",
       "    <tr style=\"text-align: right;\">\n",
       "      <th></th>\n",
       "      <th>tmax</th>\n",
       "      <th>tmin</th>\n",
       "      <th>prcp</th>\n",
       "    </tr>\n",
       "    <tr>\n",
       "      <th>date</th>\n",
       "      <th></th>\n",
       "      <th></th>\n",
       "      <th></th>\n",
       "    </tr>\n",
       "  </thead>\n",
       "  <tbody>\n",
       "    <tr>\n",
       "      <th>1894-01-01</th>\n",
       "      <td>427.0</td>\n",
       "      <td>348.0</td>\n",
       "      <td>601.0</td>\n",
       "    </tr>\n",
       "    <tr>\n",
       "      <th>1894-02-01</th>\n",
       "      <td>428.0</td>\n",
       "      <td>335.0</td>\n",
       "      <td>421.0</td>\n",
       "    </tr>\n",
       "    <tr>\n",
       "      <th>1894-03-01</th>\n",
       "      <td>491.0</td>\n",
       "      <td>362.0</td>\n",
       "      <td>626.0</td>\n",
       "    </tr>\n",
       "    <tr>\n",
       "      <th>1894-04-01</th>\n",
       "      <td>549.0</td>\n",
       "      <td>410.0</td>\n",
       "      <td>422.0</td>\n",
       "    </tr>\n",
       "    <tr>\n",
       "      <th>1894-05-01</th>\n",
       "      <td>607.0</td>\n",
       "      <td>461.0</td>\n",
       "      <td>200.0</td>\n",
       "    </tr>\n",
       "  </tbody>\n",
       "</table>\n",
       "</div>"
      ],
      "text/plain": [
       "             tmax   tmin   prcp\n",
       "date                           \n",
       "1894-01-01  427.0  348.0  601.0\n",
       "1894-02-01  428.0  335.0  421.0\n",
       "1894-03-01  491.0  362.0  626.0\n",
       "1894-04-01  549.0  410.0  422.0\n",
       "1894-05-01  607.0  461.0  200.0"
      ]
     },
     "execution_count": 10,
     "metadata": {},
     "output_type": "execute_result"
    }
   ],
   "source": [
    "seattle_ushcn = ushcn_data.loc[seattle_id]\n",
    "seattle_ushcn.head()"
   ]
  },
  {
   "cell_type": "markdown",
   "metadata": {
    "slideshow": {
     "slide_type": "skip"
    }
   },
   "source": [
    "Compute monthly mean anomalies and plot."
   ]
  },
  {
   "cell_type": "code",
   "execution_count": 11,
   "metadata": {
    "collapsed": false,
    "run_control": {
     "frozen": false,
     "read_only": false
    },
    "slideshow": {
     "slide_type": "skip"
    }
   },
   "outputs": [
    {
     "data": {
      "text/plain": [
       "array([<matplotlib.axes._subplots.AxesSubplot object at 0x10f7766a0>,\n",
       "       <matplotlib.axes._subplots.AxesSubplot object at 0x11632be48>,\n",
       "       <matplotlib.axes._subplots.AxesSubplot object at 0x11636c2b0>], dtype=object)"
      ]
     },
     "execution_count": 11,
     "metadata": {},
     "output_type": "execute_result"
    },
    {
     "data": {
      "image/png": "[encoded data removed]",
      "text/plain": [
       "<matplotlib.figure.Figure at 0x105ddc710>"
      ]
     },
     "metadata": {},
     "output_type": "display_data"
    }
   ],
   "source": [
    "def _anom(x):\n",
    "    return x - x.mean()\n",
    "\n",
    "(seattle_ushcn\n",
    "     .groupby(lambda x: x.month)\n",
    "     .apply(_anom)\n",
    "     .plot(subplots=True))"
   ]
  },
  {
   "cell_type": "markdown",
   "metadata": {
    "slideshow": {
     "slide_type": "skip"
    }
   },
   "source": [
    "Pandas vs Matplotlib plotting interface"
   ]
  },
  {
   "cell_type": "code",
   "execution_count": 12,
   "metadata": {
    "collapsed": false,
    "run_control": {
     "frozen": false,
     "read_only": false
    },
    "slideshow": {
     "slide_type": "skip"
    }
   },
   "outputs": [
    {
     "data": {
      "text/plain": [
       "<matplotlib.collections.PathCollection at 0x11687e3c8>"
      ]
     },
     "execution_count": 12,
     "metadata": {},
     "output_type": "execute_result"
    },
    {
     "data": {
      "image/png": "[encoded data removed]",
      "text/plain": [
       "<matplotlib.figure.Figure at 0x11649e240>"
      ]
     },
     "metadata": {},
     "output_type": "display_data"
    }
   ],
   "source": [
    "nrows, ncols = 1, 2\n",
    "size, aspect = 4., 16./10.\n",
    "width, height = size*ncols*aspect, size*nrows\n",
    "\n",
    "fig, axs = plt.subplots(nrows, ncols, figsize=(width, height))\n",
    "ax1, ax2 = axs\n",
    "\n",
    "style = dict(marker='.')\n",
    "\n",
    "# Plot using pandas\n",
    "seattle_ushcn.plot(x='tmax', y='prcp', kind='scatter', ax=ax1, **style)\n",
    "\n",
    "# Plot using matplotlib\n",
    "ax2.scatter('tmax', 'prcp', data=seattle_ushcn, **style)"
   ]
  },
  {
   "cell_type": "markdown",
   "metadata": {
    "slideshow": {
     "slide_type": "skip"
    }
   },
   "source": [
    "// Styling\n",
    "<style type=\"text/css\">\n",
    ".input_prompt, .input_area, .output_prompt {\n",
    "display:none !important;\n",
    "}\n",
    ".reveal h1, .reveal h2 {\n",
    "    font-family:\"League Gothic\"\n",
    "}\n",
    "</style>"
   ]
  },
  {
   "cell_type": "markdown",
   "metadata": {
    "nbpresent": {
     "id": "9c8266ed-7e87-4bf8-972e-2e52d2d36282"
    },
    "slideshow": {
     "slide_type": "slide"
    }
   },
   "source": [
    "# <center> Basic Pandas </center>\n",
    "\n",
    "<br>\n",
    "\n",
    "<center>\n",
    "    <b>Daniel Rothenberg</b> | darothen@mit.edu\n",
    "    <p>Seventh Symposium on Advances in Modeling and Analysis Using Python</p>\n",
    "    <p>AMS Annual Meeting, Seattle, WA</p>\n",
    "    <p>January 24, 2017</p>\n",
    "</center>"
   ]
  },
  {
   "cell_type": "markdown",
   "metadata": {
    "slideshow": {
     "slide_type": "skip"
    }
   },
   "source": [
    "---"
   ]
  },
  {
   "cell_type": "markdown",
   "metadata": {
    "slideshow": {
     "slide_type": "slide"
    }
   },
   "source": [
    "<img src=\"figs/pandas_logo.png\">"
   ]
  },
  {
   "cell_type": "markdown",
   "metadata": {
    "slideshow": {
     "slide_type": "subslide"
    }
   },
   "source": [
    "## What is [pandas](http://pandas.pydata.org)?\n",
    "\n",
    "- Toolkit built on-top of NumPy to emulate R's `data.frame`\n",
    "- Performance-focused\n",
    "- Simple API with rich documentation\n",
    "- Developed by quantitative finance folks ([@wesmckinn](http://www.twitter.com/wesmckinn))\n"
   ]
  },
  {
   "cell_type": "markdown",
   "metadata": {
    "slideshow": {
     "slide_type": "fragment"
    }
   },
   "source": [
    "### ... and why should I care?\n",
    "\n",
    "- Make data processing and cleaning easy! \n",
    "- Make data analysis fast and fun!\n",
    "- Open your data workflows to powerful new tools"
   ]
  },
  {
   "cell_type": "markdown",
   "metadata": {
    "slideshow": {
     "slide_type": "subslide"
    }
   },
   "source": [
    "### Use the right tool for your job!\n",
    "\n",
    "<img src=\"figs/wrong_tool.jpg\">"
   ]
  },
  {
   "cell_type": "markdown",
   "metadata": {
    "slideshow": {
     "slide_type": "subslide"
    }
   },
   "source": [
    "### How to follow along"
   ]
  },
  {
   "cell_type": "markdown",
   "metadata": {
    "slideshow": {
     "slide_type": "fragment"
    }
   },
   "source": [
    "1. Download [this notebook and utilities from github](https://github.com/darothen/python_for_climate_data_science) (**bit.ly/2iSCY0c**), and run the code samples as we go or follow in your browser."
   ]
  },
  {
   "cell_type": "markdown",
   "metadata": {
    "slideshow": {
     "slide_type": "fragment"
    }
   },
   "source": [
    "2. Open an `ipython` interpreter and enter the code by hand.\n",
    "\n",
    "<br>\n",
    "\n",
    "``` shell\n",
    "$ ipython\n",
    "Python 3.5.2 |Continuum Analytics, Inc.| (default, Jul  2 2016, 17:52:12)\n",
    "Type \"copyright\", \"credits\" or \"license\" for more information.\n",
    "\n",
    "IPython 5.1.0 -- An enhanced Interactive Python.\n",
    "?         -> Introduction and overview of IPython's features.\n",
    "%quickref -> Quick reference.\n",
    "help      -> Python's own help system.\n",
    "object?   -> Details about 'object', use 'object??' for extra details.\n",
    "\n",
    "In [1]: <your code here>\n",
    "```"
   ]
  },
  {
   "cell_type": "markdown",
   "metadata": {
    "slideshow": {
     "slide_type": "slide"
    }
   },
   "source": [
    "## Basics and Overview"
   ]
  },
  {
   "cell_type": "markdown",
   "metadata": {
    "slideshow": {
     "slide_type": "slide"
    }
   },
   "source": [
    "## [Series](http://pandas.pydata.org/pandas-docs/stable/dsintro.html#series)\n",
    "\n",
    "<blockquote>\n",
    "    <b>A one-dimensional, labeled array capable of holding any data type.</b>\n",
    "</blockquote>"
   ]
  },
  {
   "cell_type": "markdown",
   "metadata": {
    "slideshow": {
     "slide_type": "fragment"
    }
   },
   "source": [
    "<img src=\"figs/series.svg\" style=\"width: 400px\">"
   ]
  },
  {
   "cell_type": "markdown",
   "metadata": {
    "slideshow": {
     "slide_type": "subslide"
    }
   },
   "source": [
    "### Creating Series\n",
    "\n",
    "From list-like data..."
   ]
  },
  {
   "cell_type": "code",
   "execution_count": 13,
   "metadata": {
    "collapsed": false,
    "run_control": {
     "frozen": false,
     "read_only": false
    },
    "slideshow": {
     "slide_type": "-"
    }
   },
   "outputs": [
    {
     "data": {
      "text/plain": [
       "0    21\n",
       "1    25\n",
       "2    16\n",
       "3    22\n",
       "4    16\n",
       "5    21\n",
       "6    15\n",
       "dtype: int64"
      ]
     },
     "execution_count": 13,
     "metadata": {},
     "output_type": "execute_result"
    }
   ],
   "source": [
    "temperature_data = [21, 25, 16, 22, 16, 21, 15]\n",
    "pd.Series(temperature_data)"
   ]
  },
  {
   "cell_type": "markdown",
   "metadata": {
    "slideshow": {
     "slide_type": "fragment"
    }
   },
   "source": [
    "With custom index..."
   ]
  },
  {
   "cell_type": "code",
   "execution_count": 14,
   "metadata": {
    "collapsed": false,
    "run_control": {
     "frozen": false,
     "read_only": false
    },
    "slideshow": {
     "slide_type": "-"
    }
   },
   "outputs": [
    {
     "data": {
      "text/plain": [
       "Monday       21\n",
       "Tuesday      25\n",
       "Wednesday    16\n",
       "Thursday     22\n",
       "Friday       16\n",
       "dtype: int64"
      ]
     },
     "execution_count": 14,
     "metadata": {},
     "output_type": "execute_result"
    }
   ],
   "source": [
    "days_of_the_week = ['Monday', 'Tuesday', 'Wednesday', 'Thursday',\n",
    "                    'Friday', 'Saturday', 'Sunday']\n",
    "temperature_series = pd.Series(temperature_data, index=days_of_the_week)\n",
    "temperature_series.head()"
   ]
  },
  {
   "cell_type": "markdown",
   "metadata": {
    "slideshow": {
     "slide_type": "subslide"
    }
   },
   "source": [
    "### Labeled Indexing\n",
    "\n",
    "How would we find the temperature for Thursday?"
   ]
  },
  {
   "cell_type": "code",
   "execution_count": 15,
   "metadata": {
    "collapsed": false,
    "run_control": {
     "frozen": false,
     "read_only": false
    },
    "slideshow": {
     "slide_type": "-"
    }
   },
   "outputs": [
    {
     "data": {
      "text/plain": [
       "(3, 22)"
      ]
     },
     "execution_count": 15,
     "metadata": {},
     "output_type": "execute_result"
    }
   ],
   "source": [
    "for idx, val in enumerate(days_of_the_week):\n",
    "    if val == \"Thursday\": break\n",
    "\n",
    "idx, temperature_data[idx]"
   ]
  },
  {
   "cell_type": "markdown",
   "metadata": {
    "slideshow": {
     "slide_type": "fragment"
    }
   },
   "source": [
    "... but what if we have labeled data?"
   ]
  },
  {
   "cell_type": "code",
   "execution_count": 16,
   "metadata": {
    "collapsed": false,
    "run_control": {
     "frozen": false,
     "read_only": false
    },
    "slideshow": {
     "slide_type": "-"
    }
   },
   "outputs": [
    {
     "data": {
      "text/plain": [
       "22"
      ]
     },
     "execution_count": 16,
     "metadata": {},
     "output_type": "execute_result"
    }
   ],
   "source": [
    "temperature_series['Thursday']"
   ]
  },
  {
   "cell_type": "markdown",
   "metadata": {
    "slideshow": {
     "slide_type": "subslide"
    }
   },
   "source": [
    "### \"Fancy\" Indexing"
   ]
  },
  {
   "cell_type": "markdown",
   "metadata": {
    "slideshow": {
     "slide_type": "fragment"
    }
   },
   "source": [
    "Any boolean vector with the same shape as your `Index` can be used to select data."
   ]
  },
  {
   "cell_type": "code",
   "execution_count": 17,
   "metadata": {
    "collapsed": false,
    "run_control": {
     "frozen": false,
     "read_only": false
    },
    "slideshow": {
     "slide_type": "-"
    }
   },
   "outputs": [
    {
     "data": {
      "text/plain": [
       "Monday       False\n",
       "Tuesday      False\n",
       "Wednesday     True\n",
       "Thursday     False\n",
       "Friday        True\n",
       "Saturday     False\n",
       "Sunday        True\n",
       "dtype: bool"
      ]
     },
     "execution_count": 17,
     "metadata": {},
     "output_type": "execute_result"
    }
   ],
   "source": [
    "temperature_series < 20"
   ]
  },
  {
   "cell_type": "code",
   "execution_count": 18,
   "metadata": {
    "collapsed": false,
    "run_control": {
     "frozen": false,
     "read_only": false
    },
    "slideshow": {
     "slide_type": "-"
    }
   },
   "outputs": [
    {
     "data": {
      "text/plain": [
       "Wednesday    16\n",
       "Friday       16\n",
       "Sunday       15\n",
       "dtype: int64"
      ]
     },
     "execution_count": 18,
     "metadata": {},
     "output_type": "execute_result"
    }
   ],
   "source": [
    "temperature_series[temperature_series < 20]"
   ]
  },
  {
   "cell_type": "markdown",
   "metadata": {
    "slideshow": {
     "slide_type": "subslide"
    }
   },
   "source": [
    "### Applying Functions"
   ]
  },
  {
   "cell_type": "code",
   "execution_count": 19,
   "metadata": {
    "collapsed": true,
    "run_control": {
     "frozen": false,
     "read_only": false
    }
   },
   "outputs": [],
   "source": [
    "def f_to_c(temp_f):\n",
    "    \"\"\" Convert temperature from degrees F to degrees C \"\"\"\n",
    "    temp_c = (5./9.) * (temp_f - 32)\n",
    "    return temp_c"
   ]
  },
  {
   "cell_type": "code",
   "execution_count": 20,
   "metadata": {
    "collapsed": false,
    "run_control": {
     "frozen": false,
     "read_only": false
    }
   },
   "outputs": [
    {
     "name": "stdout",
     "output_type": "stream",
     "text": [
      "32.0F = 0.0C\n"
     ]
    }
   ],
   "source": [
    "print(\"{deg_f}F = {deg_c}C\".format(deg_f=32.0, deg_c=f_to_c(32)))"
   ]
  },
  {
   "cell_type": "code",
   "execution_count": 21,
   "metadata": {
    "collapsed": false,
    "run_control": {
     "frozen": false,
     "read_only": false
    },
    "slideshow": {
     "slide_type": "fragment"
    }
   },
   "outputs": [
    {
     "data": {
      "text/plain": [
       "Monday      -6.11\n",
       "Tuesday     -3.89\n",
       "Wednesday   -8.89\n",
       "Thursday    -5.56\n",
       "Friday      -8.89\n",
       "Saturday    -6.11\n",
       "Sunday      -9.44\n",
       "dtype: float64"
      ]
     },
     "execution_count": 21,
     "metadata": {},
     "output_type": "execute_result"
    }
   ],
   "source": [
    "f_to_c(temperature_series)"
   ]
  },
  {
   "cell_type": "markdown",
   "metadata": {
    "slideshow": {
     "slide_type": "-"
    }
   },
   "source": [
    "Automatic vectorization, like wrapping with `@numpy.vectorize`. "
   ]
  },
  {
   "cell_type": "markdown",
   "metadata": {
    "slideshow": {
     "slide_type": "subslide"
    }
   },
   "source": [
    "### Applying Functions (cont'd)"
   ]
  },
  {
   "cell_type": "code",
   "execution_count": 22,
   "metadata": {
    "collapsed": false,
    "run_control": {
     "frozen": false,
     "read_only": false
    },
    "slideshow": {
     "slide_type": "-"
    }
   },
   "outputs": [
    {
     "data": {
      "text/plain": [
       "19.428571428571427"
      ]
     },
     "execution_count": 22,
     "metadata": {},
     "output_type": "execute_result"
    }
   ],
   "source": [
    "np.mean(temperature_series)"
   ]
  },
  {
   "cell_type": "code",
   "execution_count": 23,
   "metadata": {
    "collapsed": false,
    "run_control": {
     "frozen": false,
     "read_only": false
    },
    "slideshow": {
     "slide_type": "-"
    }
   },
   "outputs": [
    {
     "data": {
      "text/plain": [
       "(15, 16.0, 19.428571428571427, 21.0, 21.0, 25)"
      ]
     },
     "execution_count": 23,
     "metadata": {},
     "output_type": "execute_result"
    }
   ],
   "source": [
    "(temperature_series.min(),\n",
    " temperature_series.quantile(0.33),\n",
    " temperature_series.mean(), \n",
    " temperature_series.median(),\n",
    " temperature_series.quantile(0.66),\n",
    " temperature_series.max())"
   ]
  },
  {
   "cell_type": "markdown",
   "metadata": {
    "slideshow": {
     "slide_type": "slide"
    }
   },
   "source": [
    "## [DataFrame](http://pandas.pydata.org/pandas-docs/stable/dsintro.html#dataframe)\n",
    "\n",
    "\n",
    "<blockquote>\n",
    "    <b>A two-dimensional, labeled data structure organized into rows and columns of potentially heterogeneous type</b>\n",
    "</blockquote>\n"
   ]
  },
  {
   "cell_type": "markdown",
   "metadata": {
    "slideshow": {
     "slide_type": "fragment"
    }
   },
   "source": [
    "<img src=\"figs/dataframe.svg\" style=\"width: 800px\">"
   ]
  },
  {
   "cell_type": "markdown",
   "metadata": {
    "slideshow": {
     "slide_type": "subslide"
    }
   },
   "source": [
    "### Creating DataFrames\n",
    "\n",
    "Constructing dictionaries of data is often the easiest way to create DataFrames"
   ]
  },
  {
   "cell_type": "code",
   "execution_count": 24,
   "metadata": {
    "collapsed": false,
    "run_control": {
     "frozen": false,
     "read_only": false
    },
    "slideshow": {
     "slide_type": "-"
    }
   },
   "outputs": [
    {
     "data": {
      "text/html": [
       "<div>\n",
       "<table border=\"1\" class=\"dataframe\">\n",
       "  <thead>\n",
       "    <tr style=\"text-align: right;\">\n",
       "      <th></th>\n",
       "      <th>high_temp</th>\n",
       "      <th>low_temp</th>\n",
       "      <th>station</th>\n",
       "    </tr>\n",
       "  </thead>\n",
       "  <tbody>\n",
       "    <tr>\n",
       "      <th>0</th>\n",
       "      <td>21</td>\n",
       "      <td>14</td>\n",
       "      <td>KEYW</td>\n",
       "    </tr>\n",
       "    <tr>\n",
       "      <th>1</th>\n",
       "      <td>35</td>\n",
       "      <td>20</td>\n",
       "      <td>KMDT</td>\n",
       "    </tr>\n",
       "    <tr>\n",
       "      <th>2</th>\n",
       "      <td>32</td>\n",
       "      <td>29</td>\n",
       "      <td>KGRI</td>\n",
       "    </tr>\n",
       "    <tr>\n",
       "      <th>3</th>\n",
       "      <td>40</td>\n",
       "      <td>25</td>\n",
       "      <td>KRNO</td>\n",
       "    </tr>\n",
       "    <tr>\n",
       "      <th>4</th>\n",
       "      <td>20</td>\n",
       "      <td>-1</td>\n",
       "      <td>KTVC</td>\n",
       "    </tr>\n",
       "  </tbody>\n",
       "</table>\n",
       "</div>"
      ],
      "text/plain": [
       "   high_temp  low_temp station\n",
       "0         21        14    KEYW\n",
       "1         35        20    KMDT\n",
       "2         32        29    KGRI\n",
       "3         40        25    KRNO\n",
       "4         20        -1    KTVC"
      ]
     },
     "execution_count": 24,
     "metadata": {},
     "output_type": "execute_result"
    }
   ],
   "source": [
    "data = {\n",
    "    'high_temp': [21, 35, 32, 40, 20],\n",
    "    'low_temp': [14, 20, 29, 25, -1],\n",
    "    'station': ['KEYW', 'KMDT', 'KGRI', 'KRNO', 'KTVC']\n",
    "}\n",
    "pd.DataFrame(data)"
   ]
  },
  {
   "cell_type": "code",
   "execution_count": 25,
   "metadata": {
    "collapsed": false,
    "run_control": {
     "frozen": false,
     "read_only": false
    },
    "slideshow": {
     "slide_type": "-"
    }
   },
   "outputs": [
    {
     "data": {
      "text/html": [
       "<div>\n",
       "<table border=\"1\" class=\"dataframe\">\n",
       "  <thead>\n",
       "    <tr style=\"text-align: right;\">\n",
       "      <th></th>\n",
       "      <th>high_temp</th>\n",
       "      <th>low_temp</th>\n",
       "      <th>station</th>\n",
       "    </tr>\n",
       "  </thead>\n",
       "  <tbody>\n",
       "    <tr>\n",
       "      <th>Week 1</th>\n",
       "      <td>21</td>\n",
       "      <td>14</td>\n",
       "      <td>KEYW</td>\n",
       "    </tr>\n",
       "    <tr>\n",
       "      <th>Week 2</th>\n",
       "      <td>35</td>\n",
       "      <td>20</td>\n",
       "      <td>KMDT</td>\n",
       "    </tr>\n",
       "    <tr>\n",
       "      <th>Week 3</th>\n",
       "      <td>32</td>\n",
       "      <td>29</td>\n",
       "      <td>KGRI</td>\n",
       "    </tr>\n",
       "    <tr>\n",
       "      <th>Week 4</th>\n",
       "      <td>40</td>\n",
       "      <td>25</td>\n",
       "      <td>KRNO</td>\n",
       "    </tr>\n",
       "    <tr>\n",
       "      <th>Week 5</th>\n",
       "      <td>20</td>\n",
       "      <td>-1</td>\n",
       "      <td>KTVC</td>\n",
       "    </tr>\n",
       "  </tbody>\n",
       "</table>\n",
       "</div>"
      ],
      "text/plain": [
       "        high_temp  low_temp station\n",
       "Week 1         21        14    KEYW\n",
       "Week 2         35        20    KMDT\n",
       "Week 3         32        29    KGRI\n",
       "Week 4         40        25    KRNO\n",
       "Week 5         20        -1    KTVC"
      ]
     },
     "execution_count": 25,
     "metadata": {},
     "output_type": "execute_result"
    }
   ],
   "source": [
    "pd.DataFrame(data, index=['Week {}'.format(i) for i in range(1, 6)])"
   ]
  },
  {
   "cell_type": "markdown",
   "metadata": {
    "slideshow": {
     "slide_type": "subslide"
    }
   },
   "source": [
    "**Nested dictionaries**"
   ]
  },
  {
   "cell_type": "code",
   "execution_count": 26,
   "metadata": {
    "collapsed": false,
    "run_control": {
     "frozen": false,
     "read_only": false
    },
    "slideshow": {
     "slide_type": "-"
    }
   },
   "outputs": [
    {
     "data": {
      "text/html": [
       "<div>\n",
       "<table border=\"1\" class=\"dataframe\">\n",
       "  <thead>\n",
       "    <tr style=\"text-align: right;\">\n",
       "      <th></th>\n",
       "      <th>high_temp</th>\n",
       "      <th>low_temp</th>\n",
       "      <th>station</th>\n",
       "    </tr>\n",
       "  </thead>\n",
       "  <tbody>\n",
       "    <tr>\n",
       "      <th>Week 1</th>\n",
       "      <td>21.0</td>\n",
       "      <td>NaN</td>\n",
       "      <td>KEYW</td>\n",
       "    </tr>\n",
       "    <tr>\n",
       "      <th>Week 2</th>\n",
       "      <td>35.0</td>\n",
       "      <td>20.0</td>\n",
       "      <td>NaN</td>\n",
       "    </tr>\n",
       "    <tr>\n",
       "      <th>Week 3</th>\n",
       "      <td>32.0</td>\n",
       "      <td>NaN</td>\n",
       "      <td>KGRI</td>\n",
       "    </tr>\n",
       "    <tr>\n",
       "      <th>Week 4</th>\n",
       "      <td>NaN</td>\n",
       "      <td>25.0</td>\n",
       "      <td>KRNO</td>\n",
       "    </tr>\n",
       "    <tr>\n",
       "      <th>Week 5</th>\n",
       "      <td>NaN</td>\n",
       "      <td>-1.0</td>\n",
       "      <td>NaN</td>\n",
       "    </tr>\n",
       "  </tbody>\n",
       "</table>\n",
       "</div>"
      ],
      "text/plain": [
       "        high_temp  low_temp station\n",
       "Week 1       21.0       NaN    KEYW\n",
       "Week 2       35.0      20.0     NaN\n",
       "Week 3       32.0       NaN    KGRI\n",
       "Week 4        NaN      25.0    KRNO\n",
       "Week 5        NaN      -1.0     NaN"
      ]
     },
     "execution_count": 26,
     "metadata": {},
     "output_type": "execute_result"
    }
   ],
   "source": [
    "nest_data = {\n",
    "   'high_temp': { 'Week 1': 21, 'Week 2': 35, 'Week 3': 32 },\n",
    "   'low_temp': { 'Week 2': 20, 'Week 4': 25, 'Week 5': -1 },\n",
    "   'station': { 'Week 1': 'KEYW', 'Week 3': 'KGRI', 'Week 4': 'KRNO'},\n",
    "}\n",
    "pd.DataFrame(nest_data)"
   ]
  },
  {
   "cell_type": "markdown",
   "metadata": {
    "slideshow": {
     "slide_type": "subslide"
    }
   },
   "source": [
    "**2D arrays**"
   ]
  },
  {
   "cell_type": "code",
   "execution_count": 27,
   "metadata": {
    "collapsed": false,
    "run_control": {
     "frozen": false,
     "read_only": false
    },
    "slideshow": {
     "slide_type": "-"
    }
   },
   "outputs": [
    {
     "data": {
      "text/html": [
       "<div>\n",
       "<table border=\"1\" class=\"dataframe\">\n",
       "  <thead>\n",
       "    <tr style=\"text-align: right;\">\n",
       "      <th></th>\n",
       "      <th>x</th>\n",
       "      <th>y</th>\n",
       "      <th>vel</th>\n",
       "    </tr>\n",
       "    <tr>\n",
       "      <th>sample</th>\n",
       "      <th></th>\n",
       "      <th></th>\n",
       "      <th></th>\n",
       "    </tr>\n",
       "  </thead>\n",
       "  <tbody>\n",
       "    <tr>\n",
       "      <th>1</th>\n",
       "      <td>13</td>\n",
       "      <td>-5</td>\n",
       "      <td>5</td>\n",
       "    </tr>\n",
       "    <tr>\n",
       "      <th>2</th>\n",
       "      <td>-5</td>\n",
       "      <td>7</td>\n",
       "      <td>13</td>\n",
       "    </tr>\n",
       "    <tr>\n",
       "      <th>3</th>\n",
       "      <td>8</td>\n",
       "      <td>3</td>\n",
       "      <td>15</td>\n",
       "    </tr>\n",
       "    <tr>\n",
       "      <th>4</th>\n",
       "      <td>12</td>\n",
       "      <td>12</td>\n",
       "      <td>-6</td>\n",
       "    </tr>\n",
       "    <tr>\n",
       "      <th>5</th>\n",
       "      <td>14</td>\n",
       "      <td>17</td>\n",
       "      <td>12</td>\n",
       "    </tr>\n",
       "  </tbody>\n",
       "</table>\n",
       "</div>"
      ],
      "text/plain": [
       "         x   y  vel\n",
       "sample             \n",
       "1       13  -5    5\n",
       "2       -5   7   13\n",
       "3        8   3   15\n",
       "4       12  12   -6\n",
       "5       14  17   12"
      ]
     },
     "execution_count": 27,
     "metadata": {},
     "output_type": "execute_result"
    }
   ],
   "source": [
    "mat = np.random.randint(-10, 20, size=(5, 3))\n",
    "pd.DataFrame(mat, columns=['x', 'y', 'vel'], \n",
    "             index=pd.Index([1, 2, 3, 4, 5], name='sample'))"
   ]
  },
  {
   "cell_type": "markdown",
   "metadata": {
    "slideshow": {
     "slide_type": "subslide"
    }
   },
   "source": [
    "**Structured / Record Arrays**"
   ]
  },
  {
   "cell_type": "code",
   "execution_count": 28,
   "metadata": {
    "collapsed": false,
    "run_control": {
     "frozen": false,
     "read_only": false
    },
    "slideshow": {
     "slide_type": "-"
    }
   },
   "outputs": [
    {
     "data": {
      "text/plain": [
       "(array([ 13.,  -5.,   8.,  12.,  14.]), array([ -5.,   7.,   3.,  12.,  17.]))"
      ]
     },
     "execution_count": 28,
     "metadata": {},
     "output_type": "execute_result"
    }
   ],
   "source": [
    "dt = [\n",
    "    ('x', '<f8'), \n",
    "    ('y', '<f8'), \n",
    "    ('vel', '<f8')\n",
    "]\n",
    "mat_rec = np.rec.fromarrays(mat.T.tolist(), dtype=dt)\n",
    "mat_rec['x'], mat_rec['y']"
   ]
  },
  {
   "cell_type": "code",
   "execution_count": 29,
   "metadata": {
    "collapsed": false,
    "run_control": {
     "frozen": false,
     "read_only": false
    },
    "slideshow": {
     "slide_type": "-"
    }
   },
   "outputs": [
    {
     "data": {
      "text/html": [
       "<div>\n",
       "<table border=\"1\" class=\"dataframe\">\n",
       "  <thead>\n",
       "    <tr style=\"text-align: right;\">\n",
       "      <th></th>\n",
       "      <th>x</th>\n",
       "      <th>y</th>\n",
       "      <th>vel</th>\n",
       "    </tr>\n",
       "    <tr>\n",
       "      <th>sample_id</th>\n",
       "      <th></th>\n",
       "      <th></th>\n",
       "      <th></th>\n",
       "    </tr>\n",
       "  </thead>\n",
       "  <tbody>\n",
       "    <tr>\n",
       "      <th>1</th>\n",
       "      <td>13.0</td>\n",
       "      <td>-5.0</td>\n",
       "      <td>5.0</td>\n",
       "    </tr>\n",
       "    <tr>\n",
       "      <th>2</th>\n",
       "      <td>-5.0</td>\n",
       "      <td>7.0</td>\n",
       "      <td>13.0</td>\n",
       "    </tr>\n",
       "    <tr>\n",
       "      <th>3</th>\n",
       "      <td>8.0</td>\n",
       "      <td>3.0</td>\n",
       "      <td>15.0</td>\n",
       "    </tr>\n",
       "    <tr>\n",
       "      <th>4</th>\n",
       "      <td>12.0</td>\n",
       "      <td>12.0</td>\n",
       "      <td>-6.0</td>\n",
       "    </tr>\n",
       "    <tr>\n",
       "      <th>5</th>\n",
       "      <td>14.0</td>\n",
       "      <td>17.0</td>\n",
       "      <td>12.0</td>\n",
       "    </tr>\n",
       "  </tbody>\n",
       "</table>\n",
       "</div>"
      ],
      "text/plain": [
       "              x     y   vel\n",
       "sample_id                  \n",
       "1          13.0  -5.0   5.0\n",
       "2          -5.0   7.0  13.0\n",
       "3           8.0   3.0  15.0\n",
       "4          12.0  12.0  -6.0\n",
       "5          14.0  17.0  12.0"
      ]
     },
     "execution_count": 29,
     "metadata": {},
     "output_type": "execute_result"
    }
   ],
   "source": [
    "pd.DataFrame(mat_rec, index=pd.Index(range(1, 6), name='sample_id'))"
   ]
  },
  {
   "cell_type": "code",
   "execution_count": 30,
   "metadata": {
    "collapsed": true,
    "run_control": {
     "frozen": false,
     "read_only": false
    },
    "slideshow": {
     "slide_type": "skip"
    }
   },
   "outputs": [],
   "source": [
    "df = pd.DataFrame(mat_rec, index=pd.Index(range(1, 6), name='sample_id'))"
   ]
  },
  {
   "cell_type": "markdown",
   "metadata": {
    "slideshow": {
     "slide_type": "subslide"
    }
   },
   "source": [
    "### DataFrame Structure\n",
    "\n",
    "<center><img src=\"figs/dataframe.svg\" style=\"width: 700px\"></center>"
   ]
  },
  {
   "cell_type": "code",
   "execution_count": 31,
   "metadata": {
    "collapsed": false,
    "run_control": {
     "frozen": false,
     "read_only": false
    },
    "slideshow": {
     "slide_type": "fragment"
    }
   },
   "outputs": [
    {
     "data": {
      "text/plain": [
       "RangeIndex(start=1, stop=6, step=1, name='sample_id')"
      ]
     },
     "execution_count": 31,
     "metadata": {},
     "output_type": "execute_result"
    }
   ],
   "source": [
    "df.index"
   ]
  },
  {
   "cell_type": "code",
   "execution_count": 32,
   "metadata": {
    "collapsed": false,
    "run_control": {
     "frozen": false,
     "read_only": false
    },
    "slideshow": {
     "slide_type": "-"
    }
   },
   "outputs": [
    {
     "data": {
      "text/plain": [
       "Index(['x', 'y', 'vel'], dtype='object')"
      ]
     },
     "execution_count": 32,
     "metadata": {},
     "output_type": "execute_result"
    }
   ],
   "source": [
    "df.columns"
   ]
  },
  {
   "cell_type": "code",
   "execution_count": 33,
   "metadata": {
    "collapsed": false,
    "run_control": {
     "frozen": false,
     "read_only": false
    },
    "slideshow": {
     "slide_type": "-"
    }
   },
   "outputs": [
    {
     "data": {
      "text/plain": [
       "array([[ 13.,  -5.,   5.],\n",
       "       [ -5.,   7.,  13.],\n",
       "       [  8.,   3.,  15.],\n",
       "       [ 12.,  12.,  -6.],\n",
       "       [ 14.,  17.,  12.]])"
      ]
     },
     "execution_count": 33,
     "metadata": {},
     "output_type": "execute_result"
    }
   ],
   "source": [
    "df.values"
   ]
  },
  {
   "cell_type": "markdown",
   "metadata": {
    "slideshow": {
     "slide_type": "subslide"
    }
   },
   "source": [
    "### DataFrame Structure"
   ]
  },
  {
   "cell_type": "code",
   "execution_count": 34,
   "metadata": {
    "collapsed": false,
    "run_control": {
     "frozen": false,
     "read_only": false
    },
    "slideshow": {
     "slide_type": "-"
    }
   },
   "outputs": [
    {
     "data": {
      "text/html": [
       "<div>\n",
       "<table border=\"1\" class=\"dataframe\">\n",
       "  <thead>\n",
       "    <tr style=\"text-align: right;\">\n",
       "      <th>sample_id</th>\n",
       "      <th>1</th>\n",
       "      <th>2</th>\n",
       "      <th>3</th>\n",
       "      <th>4</th>\n",
       "      <th>5</th>\n",
       "    </tr>\n",
       "  </thead>\n",
       "  <tbody>\n",
       "    <tr>\n",
       "      <th>x</th>\n",
       "      <td>13.0</td>\n",
       "      <td>-5.0</td>\n",
       "      <td>8.0</td>\n",
       "      <td>12.0</td>\n",
       "      <td>14.0</td>\n",
       "    </tr>\n",
       "    <tr>\n",
       "      <th>y</th>\n",
       "      <td>-5.0</td>\n",
       "      <td>7.0</td>\n",
       "      <td>3.0</td>\n",
       "      <td>12.0</td>\n",
       "      <td>17.0</td>\n",
       "    </tr>\n",
       "    <tr>\n",
       "      <th>vel</th>\n",
       "      <td>5.0</td>\n",
       "      <td>13.0</td>\n",
       "      <td>15.0</td>\n",
       "      <td>-6.0</td>\n",
       "      <td>12.0</td>\n",
       "    </tr>\n",
       "  </tbody>\n",
       "</table>\n",
       "</div>"
      ],
      "text/plain": [
       "sample_id     1     2     3     4     5\n",
       "x          13.0  -5.0   8.0  12.0  14.0\n",
       "y          -5.0   7.0   3.0  12.0  17.0\n",
       "vel         5.0  13.0  15.0  -6.0  12.0"
      ]
     },
     "execution_count": 34,
     "metadata": {},
     "output_type": "execute_result"
    }
   ],
   "source": [
    "df.T"
   ]
  },
  {
   "cell_type": "code",
   "execution_count": 35,
   "metadata": {
    "collapsed": false,
    "run_control": {
     "frozen": false,
     "read_only": false
    },
    "slideshow": {
     "slide_type": "fragment"
    }
   },
   "outputs": [
    {
     "data": {
      "text/plain": [
       "sample_id\n",
       "1    13.0\n",
       "2    -5.0\n",
       "3     8.0\n",
       "4    12.0\n",
       "5    14.0\n",
       "Name: x, dtype: float64"
      ]
     },
     "execution_count": 35,
     "metadata": {},
     "output_type": "execute_result"
    }
   ],
   "source": [
    "df['x']"
   ]
  },
  {
   "cell_type": "code",
   "execution_count": 36,
   "metadata": {
    "collapsed": false,
    "run_control": {
     "frozen": false,
     "read_only": false
    },
    "slideshow": {
     "slide_type": "-"
    }
   },
   "outputs": [
    {
     "data": {
      "text/plain": [
       "sample_id\n",
       "1    13.0\n",
       "2    -5.0\n",
       "3     8.0\n",
       "4    12.0\n",
       "5    14.0\n",
       "Name: x, dtype: float64"
      ]
     },
     "execution_count": 36,
     "metadata": {},
     "output_type": "execute_result"
    }
   ],
   "source": [
    "df.x"
   ]
  },
  {
   "cell_type": "code",
   "execution_count": 37,
   "metadata": {
    "collapsed": false,
    "run_control": {
     "frozen": false,
     "read_only": false
    },
    "slideshow": {
     "slide_type": "fragment"
    }
   },
   "outputs": [
    {
     "data": {
      "text/plain": [
       "x      13.0\n",
       "y      -5.0\n",
       "vel     5.0\n",
       "Name: 1, dtype: float64"
      ]
     },
     "execution_count": 37,
     "metadata": {},
     "output_type": "execute_result"
    }
   ],
   "source": [
    "df.ix[1]"
   ]
  },
  {
   "cell_type": "markdown",
   "metadata": {
    "slideshow": {
     "slide_type": "subslide"
    }
   },
   "source": [
    "### Ingesting DataFrames from Disk"
   ]
  },
  {
   "cell_type": "markdown",
   "metadata": {
    "slideshow": {
     "slide_type": "-"
    }
   },
   "source": [
    "Go-to methods: **read_csv()**, **read_table()**, and **read_fmf()**\n",
    "\n",
    "-   **filepath_or_buffer**: a path to a filename, or some other object\n",
    "    with a `read()` method.\n",
    "-   **sep**: delimiter separating values in your data. By default, this\n",
    "    will be ',' for `read_csv()` and '\\t' for `read_table()`, although\n",
    "    you can pass it any regular expression. If you don't pass one,\n",
    "    pandas will try to infer it automatically.\n",
    "-   **delim_whitespace**: should pandas include arbitrary whitespace as a\n",
    "    delimiter?\n",
    "-   **header**: row numbers to use as column names, and where the data\n",
    "    starts in the file\n",
    "-   **names**: a list of column names to use; if the data has no header,\n",
    "    this should be used with `header=None`\n",
    "-   **index_col**: column to use as row labels\n",
    "-   **skip{rows,footer}**: skip beginning/ending rows.\n"
   ]
  },
  {
   "cell_type": "markdown",
   "metadata": {
    "slideshow": {
     "slide_type": "subslide"
    }
   },
   "source": [
    "### Example: GISTEMP Global Monthly Mean Anomalies"
   ]
  },
  {
   "cell_type": "code",
   "execution_count": 38,
   "metadata": {
    "collapsed": false,
    "run_control": {
     "frozen": false,
     "read_only": false
    },
    "slideshow": {
     "slide_type": "-"
    }
   },
   "outputs": [
    {
     "name": "stdout",
     "output_type": "stream",
     "text": [
      "Land-Ocean: Global Means\r\n",
      "Year,Jan,Feb,Mar,Apr,May,Jun,Jul,Aug,Sep,Oct,Nov,Dec,J-D,D-N,DJF,MAM,JJA,SON\r\n",
      "1880,-.30,-.21,-.18,-.27,-.14,-.29,-.24,-.07,-.17,-.16,-.19,-.22,-.20,***,***,-.20,-.20,-.17\r\n",
      "1881,-.10,-.14,.01,-.03,-.04,-.29,-.07,-.03,-.09,-.20,-.26,-.16,-.12,-.12,-.15,-.02,-.13,-.18\r\n"
     ]
    }
   ],
   "source": [
    "!head -n 4 data/GLB.Ts+dSST.csv"
   ]
  },
  {
   "cell_type": "code",
   "execution_count": 39,
   "metadata": {
    "collapsed": false,
    "run_control": {
     "frozen": false,
     "read_only": false
    },
    "slideshow": {
     "slide_type": "fragment"
    }
   },
   "outputs": [
    {
     "data": {
      "text/html": [
       "<div>\n",
       "<table border=\"1\" class=\"dataframe\">\n",
       "  <thead>\n",
       "    <tr style=\"text-align: right;\">\n",
       "      <th></th>\n",
       "      <th>Jan</th>\n",
       "      <th>Feb</th>\n",
       "      <th>Mar</th>\n",
       "      <th>Apr</th>\n",
       "      <th>May</th>\n",
       "      <th>Jun</th>\n",
       "      <th>Jul</th>\n",
       "      <th>Aug</th>\n",
       "      <th>Sep</th>\n",
       "      <th>Oct</th>\n",
       "      <th>Nov</th>\n",
       "      <th>Dec</th>\n",
       "      <th>J-D</th>\n",
       "      <th>D-N</th>\n",
       "      <th>DJF</th>\n",
       "      <th>MAM</th>\n",
       "      <th>JJA</th>\n",
       "      <th>SON</th>\n",
       "    </tr>\n",
       "    <tr>\n",
       "      <th>Year</th>\n",
       "      <th></th>\n",
       "      <th></th>\n",
       "      <th></th>\n",
       "      <th></th>\n",
       "      <th></th>\n",
       "      <th></th>\n",
       "      <th></th>\n",
       "      <th></th>\n",
       "      <th></th>\n",
       "      <th></th>\n",
       "      <th></th>\n",
       "      <th></th>\n",
       "      <th></th>\n",
       "      <th></th>\n",
       "      <th></th>\n",
       "      <th></th>\n",
       "      <th></th>\n",
       "      <th></th>\n",
       "    </tr>\n",
       "  </thead>\n",
       "  <tbody>\n",
       "    <tr>\n",
       "      <th>1880</th>\n",
       "      <td>-0.30</td>\n",
       "      <td>-0.21</td>\n",
       "      <td>-0.18</td>\n",
       "      <td>-0.27</td>\n",
       "      <td>-0.14</td>\n",
       "      <td>-0.29</td>\n",
       "      <td>-0.24</td>\n",
       "      <td>-0.07</td>\n",
       "      <td>-0.17</td>\n",
       "      <td>-0.16</td>\n",
       "      <td>-0.19</td>\n",
       "      <td>-0.22</td>\n",
       "      <td>-0.20</td>\n",
       "      <td>NaN</td>\n",
       "      <td>NaN</td>\n",
       "      <td>-0.20</td>\n",
       "      <td>-0.20</td>\n",
       "      <td>-0.17</td>\n",
       "    </tr>\n",
       "    <tr>\n",
       "      <th>1881</th>\n",
       "      <td>-0.10</td>\n",
       "      <td>-0.14</td>\n",
       "      <td>0.01</td>\n",
       "      <td>-0.03</td>\n",
       "      <td>-0.04</td>\n",
       "      <td>-0.29</td>\n",
       "      <td>-0.07</td>\n",
       "      <td>-0.03</td>\n",
       "      <td>-0.09</td>\n",
       "      <td>-0.20</td>\n",
       "      <td>-0.26</td>\n",
       "      <td>-0.16</td>\n",
       "      <td>-0.12</td>\n",
       "      <td>-0.12</td>\n",
       "      <td>-0.15</td>\n",
       "      <td>-0.02</td>\n",
       "      <td>-0.13</td>\n",
       "      <td>-0.18</td>\n",
       "    </tr>\n",
       "    <tr>\n",
       "      <th>1882</th>\n",
       "      <td>0.09</td>\n",
       "      <td>0.08</td>\n",
       "      <td>0.01</td>\n",
       "      <td>-0.20</td>\n",
       "      <td>-0.18</td>\n",
       "      <td>-0.25</td>\n",
       "      <td>-0.11</td>\n",
       "      <td>0.03</td>\n",
       "      <td>-0.01</td>\n",
       "      <td>-0.22</td>\n",
       "      <td>-0.21</td>\n",
       "      <td>-0.25</td>\n",
       "      <td>-0.10</td>\n",
       "      <td>-0.09</td>\n",
       "      <td>0.00</td>\n",
       "      <td>-0.12</td>\n",
       "      <td>-0.11</td>\n",
       "      <td>-0.15</td>\n",
       "    </tr>\n",
       "    <tr>\n",
       "      <th>1883</th>\n",
       "      <td>-0.34</td>\n",
       "      <td>-0.42</td>\n",
       "      <td>-0.18</td>\n",
       "      <td>-0.24</td>\n",
       "      <td>-0.25</td>\n",
       "      <td>-0.12</td>\n",
       "      <td>-0.08</td>\n",
       "      <td>-0.13</td>\n",
       "      <td>-0.18</td>\n",
       "      <td>-0.11</td>\n",
       "      <td>-0.20</td>\n",
       "      <td>-0.18</td>\n",
       "      <td>-0.20</td>\n",
       "      <td>-0.21</td>\n",
       "      <td>-0.34</td>\n",
       "      <td>-0.22</td>\n",
       "      <td>-0.11</td>\n",
       "      <td>-0.17</td>\n",
       "    </tr>\n",
       "    <tr>\n",
       "      <th>1884</th>\n",
       "      <td>-0.18</td>\n",
       "      <td>-0.12</td>\n",
       "      <td>-0.34</td>\n",
       "      <td>-0.36</td>\n",
       "      <td>-0.32</td>\n",
       "      <td>-0.38</td>\n",
       "      <td>-0.34</td>\n",
       "      <td>-0.26</td>\n",
       "      <td>-0.23</td>\n",
       "      <td>-0.22</td>\n",
       "      <td>-0.29</td>\n",
       "      <td>-0.29</td>\n",
       "      <td>-0.28</td>\n",
       "      <td>-0.27</td>\n",
       "      <td>-0.16</td>\n",
       "      <td>-0.34</td>\n",
       "      <td>-0.32</td>\n",
       "      <td>-0.25</td>\n",
       "    </tr>\n",
       "  </tbody>\n",
       "</table>\n",
       "</div>"
      ],
      "text/plain": [
       "       Jan   Feb   Mar   Apr   May   Jun   Jul   Aug   Sep   Oct   Nov   Dec  \\\n",
       "Year                                                                           \n",
       "1880 -0.30 -0.21 -0.18 -0.27 -0.14 -0.29 -0.24 -0.07 -0.17 -0.16 -0.19 -0.22   \n",
       "1881 -0.10 -0.14  0.01 -0.03 -0.04 -0.29 -0.07 -0.03 -0.09 -0.20 -0.26 -0.16   \n",
       "1882  0.09  0.08  0.01 -0.20 -0.18 -0.25 -0.11  0.03 -0.01 -0.22 -0.21 -0.25   \n",
       "1883 -0.34 -0.42 -0.18 -0.24 -0.25 -0.12 -0.08 -0.13 -0.18 -0.11 -0.20 -0.18   \n",
       "1884 -0.18 -0.12 -0.34 -0.36 -0.32 -0.38 -0.34 -0.26 -0.23 -0.22 -0.29 -0.29   \n",
       "\n",
       "       J-D   D-N   DJF   MAM   JJA   SON  \n",
       "Year                                      \n",
       "1880 -0.20   NaN   NaN -0.20 -0.20 -0.17  \n",
       "1881 -0.12 -0.12 -0.15 -0.02 -0.13 -0.18  \n",
       "1882 -0.10 -0.09  0.00 -0.12 -0.11 -0.15  \n",
       "1883 -0.20 -0.21 -0.34 -0.22 -0.11 -0.17  \n",
       "1884 -0.28 -0.27 -0.16 -0.34 -0.32 -0.25  "
      ]
     },
     "execution_count": 39,
     "metadata": {},
     "output_type": "execute_result"
    }
   ],
   "source": [
    "df = pd.read_csv(\"data/GLB.Ts+dSST.csv\", \n",
    "                 skiprows=1, header=0, index_col=0, na_values='***')\n",
    "df.head()"
   ]
  },
  {
   "cell_type": "markdown",
   "metadata": {
    "slideshow": {
     "slide_type": "subslide"
    }
   },
   "source": [
    "### Example: GISTEMP Global Monthly Mean Anomalies"
   ]
  },
  {
   "cell_type": "code",
   "execution_count": 40,
   "metadata": {
    "collapsed": false,
    "run_control": {
     "frozen": false,
     "read_only": false
    },
    "slideshow": {
     "slide_type": "-"
    }
   },
   "outputs": [
    {
     "name": "stdout",
     "output_type": "stream",
     "text": [
      "        GLOBAL Land-Ocean Temperature Index in 0.01 degrees Celsius   base period: 1951-1980\r\n",
      "\r\n",
      "                    sources:  GHCN-v3 1880-11/2016 + SST: ERSST v4 1880-11/2016\r\n",
      "                    using elimination of outliers and homogeneity adjustment\r\n",
      "                    Notes: 1950 DJF = Dec 1949 - Feb 1950 ;  ***** = missing\r\n",
      "\r\n",
      "                                                                     AnnMean\r\n",
      "Year   Jan  Feb  Mar  Apr  May  Jun  Jul  Aug  Sep  Oct  Nov  Dec    J-D D-N    DJF  MAM  JJA  SON  Year\r\n",
      "1880   -30  -21  -18  -27  -14  -29  -24   -7  -17  -16  -19  -22    -20 ***   ****  -20  -20  -17  1880\r\n"
     ]
    }
   ],
   "source": [
    "!head -n 9 data/GLB.Ts+dSST.txt"
   ]
  },
  {
   "cell_type": "code",
   "execution_count": 41,
   "metadata": {
    "collapsed": false,
    "run_control": {
     "frozen": false,
     "read_only": false
    },
    "slideshow": {
     "slide_type": "fragment"
    }
   },
   "outputs": [
    {
     "data": {
      "text/html": [
       "<div>\n",
       "<table border=\"1\" class=\"dataframe\">\n",
       "  <thead>\n",
       "    <tr style=\"text-align: right;\">\n",
       "      <th></th>\n",
       "      <th>Jan</th>\n",
       "      <th>Feb</th>\n",
       "      <th>Mar</th>\n",
       "      <th>Apr</th>\n",
       "      <th>May</th>\n",
       "      <th>Jun</th>\n",
       "      <th>July</th>\n",
       "      <th>Aug</th>\n",
       "      <th>Sep</th>\n",
       "      <th>Oct</th>\n",
       "      <th>Nov</th>\n",
       "      <th>Dec</th>\n",
       "    </tr>\n",
       "    <tr>\n",
       "      <th>Year</th>\n",
       "      <th></th>\n",
       "      <th></th>\n",
       "      <th></th>\n",
       "      <th></th>\n",
       "      <th></th>\n",
       "      <th></th>\n",
       "      <th></th>\n",
       "      <th></th>\n",
       "      <th></th>\n",
       "      <th></th>\n",
       "      <th></th>\n",
       "      <th></th>\n",
       "    </tr>\n",
       "  </thead>\n",
       "  <tbody>\n",
       "    <tr>\n",
       "      <th>1880</th>\n",
       "      <td>-30.0</td>\n",
       "      <td>-21.0</td>\n",
       "      <td>-18.0</td>\n",
       "      <td>-27.0</td>\n",
       "      <td>-14.0</td>\n",
       "      <td>-29.0</td>\n",
       "      <td>-24.0</td>\n",
       "      <td>-7.0</td>\n",
       "      <td>-17.0</td>\n",
       "      <td>-16.0</td>\n",
       "      <td>-19.0</td>\n",
       "      <td>-22.0</td>\n",
       "    </tr>\n",
       "    <tr>\n",
       "      <th>1881</th>\n",
       "      <td>-10.0</td>\n",
       "      <td>-14.0</td>\n",
       "      <td>1.0</td>\n",
       "      <td>-3.0</td>\n",
       "      <td>-4.0</td>\n",
       "      <td>-29.0</td>\n",
       "      <td>-7.0</td>\n",
       "      <td>-3.0</td>\n",
       "      <td>-9.0</td>\n",
       "      <td>-20.0</td>\n",
       "      <td>-26.0</td>\n",
       "      <td>-16.0</td>\n",
       "    </tr>\n",
       "    <tr>\n",
       "      <th>1882</th>\n",
       "      <td>9.0</td>\n",
       "      <td>8.0</td>\n",
       "      <td>1.0</td>\n",
       "      <td>-20.0</td>\n",
       "      <td>-18.0</td>\n",
       "      <td>-25.0</td>\n",
       "      <td>-11.0</td>\n",
       "      <td>3.0</td>\n",
       "      <td>-1.0</td>\n",
       "      <td>-22.0</td>\n",
       "      <td>-21.0</td>\n",
       "      <td>-25.0</td>\n",
       "    </tr>\n",
       "    <tr>\n",
       "      <th>1883</th>\n",
       "      <td>-34.0</td>\n",
       "      <td>-42.0</td>\n",
       "      <td>-18.0</td>\n",
       "      <td>-24.0</td>\n",
       "      <td>-25.0</td>\n",
       "      <td>-12.0</td>\n",
       "      <td>-8.0</td>\n",
       "      <td>-13.0</td>\n",
       "      <td>-18.0</td>\n",
       "      <td>-11.0</td>\n",
       "      <td>-20.0</td>\n",
       "      <td>-18.0</td>\n",
       "    </tr>\n",
       "    <tr>\n",
       "      <th>1884</th>\n",
       "      <td>-18.0</td>\n",
       "      <td>-12.0</td>\n",
       "      <td>-34.0</td>\n",
       "      <td>-36.0</td>\n",
       "      <td>-32.0</td>\n",
       "      <td>-38.0</td>\n",
       "      <td>-34.0</td>\n",
       "      <td>-26.0</td>\n",
       "      <td>-23.0</td>\n",
       "      <td>-22.0</td>\n",
       "      <td>-29.0</td>\n",
       "      <td>-29.0</td>\n",
       "    </tr>\n",
       "  </tbody>\n",
       "</table>\n",
       "</div>"
      ],
      "text/plain": [
       "       Jan   Feb   Mar   Apr   May   Jun  July   Aug   Sep   Oct   Nov   Dec\n",
       "Year                                                                        \n",
       "1880 -30.0 -21.0 -18.0 -27.0 -14.0 -29.0 -24.0  -7.0 -17.0 -16.0 -19.0 -22.0\n",
       "1881 -10.0 -14.0   1.0  -3.0  -4.0 -29.0  -7.0  -3.0  -9.0 -20.0 -26.0 -16.0\n",
       "1882   9.0   8.0   1.0 -20.0 -18.0 -25.0 -11.0   3.0  -1.0 -22.0 -21.0 -25.0\n",
       "1883 -34.0 -42.0 -18.0 -24.0 -25.0 -12.0  -8.0 -13.0 -18.0 -11.0 -20.0 -18.0\n",
       "1884 -18.0 -12.0 -34.0 -36.0 -32.0 -38.0 -34.0 -26.0 -23.0 -22.0 -29.0 -29.0"
      ]
     },
     "execution_count": 41,
     "metadata": {},
     "output_type": "execute_result"
    }
   ],
   "source": [
    "df = pd.read_table(\n",
    "    'data/GLB.Ts+dSST.txt', delim_whitespace=True, index_col=0, skiprows=8, \n",
    "     names=['Year', 'Jan', 'Feb', 'Mar', 'Apr', 'May', 'Jun', 'July',\n",
    "            'Aug', 'Sep', 'Oct', 'Nov', 'Dec'], \n",
    "     header=None, usecols=range(13), engine='python', skipfooter=7, na_values='****')\n",
    "df = df.drop('Year', axis=0).astype('float')\n",
    "df.index = df.index.values.astype(np.int)\n",
    "df.index.name = 'Year'\n",
    "df.head()"
   ]
  },
  {
   "cell_type": "markdown",
   "metadata": {
    "slideshow": {
     "slide_type": "slide"
    }
   },
   "source": [
    "## Indexing and Selection\n",
    "\n",
    "Different ways to index into a DataFrame for different circumstances"
   ]
  },
  {
   "cell_type": "markdown",
   "metadata": {
    "slideshow": {
     "slide_type": "subslide"
    }
   },
   "source": [
    "**.ix[]** - NumPy-like label indexing on indices or labels (context-aware)"
   ]
  },
  {
   "cell_type": "code",
   "execution_count": 42,
   "metadata": {
    "collapsed": false,
    "run_control": {
     "frozen": false,
     "read_only": false
    },
    "slideshow": {
     "slide_type": "-"
    }
   },
   "outputs": [
    {
     "data": {
      "text/html": [
       "<div>\n",
       "<table border=\"1\" class=\"dataframe\">\n",
       "  <thead>\n",
       "    <tr style=\"text-align: right;\">\n",
       "      <th></th>\n",
       "      <th>Jan</th>\n",
       "      <th>Feb</th>\n",
       "      <th>Mar</th>\n",
       "      <th>Apr</th>\n",
       "      <th>May</th>\n",
       "      <th>Jun</th>\n",
       "      <th>July</th>\n",
       "      <th>Aug</th>\n",
       "      <th>Sep</th>\n",
       "      <th>Oct</th>\n",
       "      <th>Nov</th>\n",
       "      <th>Dec</th>\n",
       "    </tr>\n",
       "    <tr>\n",
       "      <th>Year</th>\n",
       "      <th></th>\n",
       "      <th></th>\n",
       "      <th></th>\n",
       "      <th></th>\n",
       "      <th></th>\n",
       "      <th></th>\n",
       "      <th></th>\n",
       "      <th></th>\n",
       "      <th></th>\n",
       "      <th></th>\n",
       "      <th></th>\n",
       "      <th></th>\n",
       "    </tr>\n",
       "  </thead>\n",
       "  <tbody>\n",
       "    <tr>\n",
       "      <th>1880</th>\n",
       "      <td>-30.0</td>\n",
       "      <td>-21.0</td>\n",
       "      <td>-18.0</td>\n",
       "      <td>-27.0</td>\n",
       "      <td>-14.0</td>\n",
       "      <td>-29.0</td>\n",
       "      <td>-24.0</td>\n",
       "      <td>-7.0</td>\n",
       "      <td>-17.0</td>\n",
       "      <td>-16.0</td>\n",
       "      <td>-19.0</td>\n",
       "      <td>-22.0</td>\n",
       "    </tr>\n",
       "    <tr>\n",
       "      <th>1881</th>\n",
       "      <td>-10.0</td>\n",
       "      <td>-14.0</td>\n",
       "      <td>1.0</td>\n",
       "      <td>-3.0</td>\n",
       "      <td>-4.0</td>\n",
       "      <td>-29.0</td>\n",
       "      <td>-7.0</td>\n",
       "      <td>-3.0</td>\n",
       "      <td>-9.0</td>\n",
       "      <td>-20.0</td>\n",
       "      <td>-26.0</td>\n",
       "      <td>-16.0</td>\n",
       "    </tr>\n",
       "    <tr>\n",
       "      <th>1882</th>\n",
       "      <td>9.0</td>\n",
       "      <td>8.0</td>\n",
       "      <td>1.0</td>\n",
       "      <td>-20.0</td>\n",
       "      <td>-18.0</td>\n",
       "      <td>-25.0</td>\n",
       "      <td>-11.0</td>\n",
       "      <td>3.0</td>\n",
       "      <td>-1.0</td>\n",
       "      <td>-22.0</td>\n",
       "      <td>-21.0</td>\n",
       "      <td>-25.0</td>\n",
       "    </tr>\n",
       "  </tbody>\n",
       "</table>\n",
       "</div>"
      ],
      "text/plain": [
       "       Jan   Feb   Mar   Apr   May   Jun  July  Aug   Sep   Oct   Nov   Dec\n",
       "Year                                                                       \n",
       "1880 -30.0 -21.0 -18.0 -27.0 -14.0 -29.0 -24.0 -7.0 -17.0 -16.0 -19.0 -22.0\n",
       "1881 -10.0 -14.0   1.0  -3.0  -4.0 -29.0  -7.0 -3.0  -9.0 -20.0 -26.0 -16.0\n",
       "1882   9.0   8.0   1.0 -20.0 -18.0 -25.0 -11.0  3.0  -1.0 -22.0 -21.0 -25.0"
      ]
     },
     "execution_count": 42,
     "metadata": {},
     "output_type": "execute_result"
    }
   ],
   "source": [
    "df.ix[:1900].head(3)"
   ]
  },
  {
   "cell_type": "code",
   "execution_count": 43,
   "metadata": {
    "collapsed": false,
    "run_control": {
     "frozen": false,
     "read_only": false
    },
    "slideshow": {
     "slide_type": "-"
    }
   },
   "outputs": [
    {
     "data": {
      "text/html": [
       "<div>\n",
       "<table border=\"1\" class=\"dataframe\">\n",
       "  <thead>\n",
       "    <tr style=\"text-align: right;\">\n",
       "      <th></th>\n",
       "      <th>Jun</th>\n",
       "      <th>July</th>\n",
       "      <th>Aug</th>\n",
       "    </tr>\n",
       "    <tr>\n",
       "      <th>Year</th>\n",
       "      <th></th>\n",
       "      <th></th>\n",
       "      <th></th>\n",
       "    </tr>\n",
       "  </thead>\n",
       "  <tbody>\n",
       "    <tr>\n",
       "      <th>2000</th>\n",
       "      <td>43.0</td>\n",
       "      <td>41.0</td>\n",
       "      <td>43.0</td>\n",
       "    </tr>\n",
       "    <tr>\n",
       "      <th>2001</th>\n",
       "      <td>54.0</td>\n",
       "      <td>61.0</td>\n",
       "      <td>48.0</td>\n",
       "    </tr>\n",
       "    <tr>\n",
       "      <th>2002</th>\n",
       "      <td>54.0</td>\n",
       "      <td>62.0</td>\n",
       "      <td>55.0</td>\n",
       "    </tr>\n",
       "  </tbody>\n",
       "</table>\n",
       "</div>"
      ],
      "text/plain": [
       "       Jun  July   Aug\n",
       "Year                  \n",
       "2000  43.0  41.0  43.0\n",
       "2001  54.0  61.0  48.0\n",
       "2002  54.0  62.0  55.0"
      ]
     },
     "execution_count": 43,
     "metadata": {},
     "output_type": "execute_result"
    }
   ],
   "source": [
    "df.ix[2000:2010, ['Jun', 'July', 'Aug']].head(3)"
   ]
  },
  {
   "cell_type": "code",
   "execution_count": 44,
   "metadata": {
    "collapsed": false,
    "run_control": {
     "frozen": false,
     "read_only": false
    },
    "slideshow": {
     "slide_type": "-"
    }
   },
   "outputs": [
    {
     "data": {
      "text/html": [
       "<div>\n",
       "<table border=\"1\" class=\"dataframe\">\n",
       "  <thead>\n",
       "    <tr style=\"text-align: right;\">\n",
       "      <th></th>\n",
       "      <th>Jun</th>\n",
       "      <th>July</th>\n",
       "      <th>Aug</th>\n",
       "    </tr>\n",
       "    <tr>\n",
       "      <th>Year</th>\n",
       "      <th></th>\n",
       "      <th></th>\n",
       "      <th></th>\n",
       "    </tr>\n",
       "  </thead>\n",
       "  <tbody>\n",
       "    <tr>\n",
       "      <th>2000</th>\n",
       "      <td>43.0</td>\n",
       "      <td>41.0</td>\n",
       "      <td>43.0</td>\n",
       "    </tr>\n",
       "    <tr>\n",
       "      <th>2001</th>\n",
       "      <td>54.0</td>\n",
       "      <td>61.0</td>\n",
       "      <td>48.0</td>\n",
       "    </tr>\n",
       "    <tr>\n",
       "      <th>2002</th>\n",
       "      <td>54.0</td>\n",
       "      <td>62.0</td>\n",
       "      <td>55.0</td>\n",
       "    </tr>\n",
       "  </tbody>\n",
       "</table>\n",
       "</div>"
      ],
      "text/plain": [
       "       Jun  July   Aug\n",
       "Year                  \n",
       "2000  43.0  41.0  43.0\n",
       "2001  54.0  61.0  48.0\n",
       "2002  54.0  62.0  55.0"
      ]
     },
     "execution_count": 44,
     "metadata": {},
     "output_type": "execute_result"
    }
   ],
   "source": [
    "df.ix[2000:2010, [5, 6, 7]].head(3)"
   ]
  },
  {
   "cell_type": "markdown",
   "metadata": {
    "slideshow": {
     "slide_type": "subslide"
    }
   },
   "source": [
    "**.iloc[]** - explicitly use 0-indexed values"
   ]
  },
  {
   "cell_type": "code",
   "execution_count": 45,
   "metadata": {
    "collapsed": false,
    "run_control": {
     "frozen": false,
     "read_only": false
    }
   },
   "outputs": [
    {
     "data": {
      "text/html": [
       "<div>\n",
       "<table border=\"1\" class=\"dataframe\">\n",
       "  <thead>\n",
       "    <tr style=\"text-align: right;\">\n",
       "      <th></th>\n",
       "      <th>Jun</th>\n",
       "      <th>July</th>\n",
       "      <th>Aug</th>\n",
       "    </tr>\n",
       "    <tr>\n",
       "      <th>Year</th>\n",
       "      <th></th>\n",
       "      <th></th>\n",
       "      <th></th>\n",
       "    </tr>\n",
       "  </thead>\n",
       "  <tbody>\n",
       "    <tr>\n",
       "      <th>1900</th>\n",
       "      <td>-15.0</td>\n",
       "      <td>-9.0</td>\n",
       "      <td>-4.0</td>\n",
       "    </tr>\n",
       "    <tr>\n",
       "      <th>1901</th>\n",
       "      <td>-10.0</td>\n",
       "      <td>-9.0</td>\n",
       "      <td>-13.0</td>\n",
       "    </tr>\n",
       "    <tr>\n",
       "      <th>1902</th>\n",
       "      <td>-35.0</td>\n",
       "      <td>-26.0</td>\n",
       "      <td>-28.0</td>\n",
       "    </tr>\n",
       "    <tr>\n",
       "      <th>1903</th>\n",
       "      <td>-45.0</td>\n",
       "      <td>-31.0</td>\n",
       "      <td>-44.0</td>\n",
       "    </tr>\n",
       "    <tr>\n",
       "      <th>1904</th>\n",
       "      <td>-50.0</td>\n",
       "      <td>-49.0</td>\n",
       "      <td>-44.0</td>\n",
       "    </tr>\n",
       "  </tbody>\n",
       "</table>\n",
       "</div>"
      ],
      "text/plain": [
       "       Jun  July   Aug\n",
       "Year                  \n",
       "1900 -15.0  -9.0  -4.0\n",
       "1901 -10.0  -9.0 -13.0\n",
       "1902 -35.0 -26.0 -28.0\n",
       "1903 -45.0 -31.0 -44.0\n",
       "1904 -50.0 -49.0 -44.0"
      ]
     },
     "execution_count": 45,
     "metadata": {},
     "output_type": "execute_result"
    }
   ],
   "source": [
    "df.iloc[20:30, [5, 6, 7]].head()"
   ]
  },
  {
   "cell_type": "markdown",
   "metadata": {
    "slideshow": {
     "slide_type": "subslide"
    }
   },
   "source": [
    "**.loc[]** - explicitly use label-based indexing"
   ]
  },
  {
   "cell_type": "code",
   "execution_count": 46,
   "metadata": {
    "collapsed": false,
    "run_control": {
     "frozen": false,
     "read_only": false
    }
   },
   "outputs": [
    {
     "data": {
      "text/html": [
       "<div>\n",
       "<table border=\"1\" class=\"dataframe\">\n",
       "  <thead>\n",
       "    <tr style=\"text-align: right;\">\n",
       "      <th></th>\n",
       "      <th>Jun</th>\n",
       "      <th>July</th>\n",
       "      <th>Aug</th>\n",
       "    </tr>\n",
       "    <tr>\n",
       "      <th>Year</th>\n",
       "      <th></th>\n",
       "      <th></th>\n",
       "      <th></th>\n",
       "    </tr>\n",
       "  </thead>\n",
       "  <tbody>\n",
       "    <tr>\n",
       "      <th>1900</th>\n",
       "      <td>-15.0</td>\n",
       "      <td>-9.0</td>\n",
       "      <td>-4.0</td>\n",
       "    </tr>\n",
       "    <tr>\n",
       "      <th>1901</th>\n",
       "      <td>-10.0</td>\n",
       "      <td>-9.0</td>\n",
       "      <td>-13.0</td>\n",
       "    </tr>\n",
       "    <tr>\n",
       "      <th>1902</th>\n",
       "      <td>-35.0</td>\n",
       "      <td>-26.0</td>\n",
       "      <td>-28.0</td>\n",
       "    </tr>\n",
       "    <tr>\n",
       "      <th>1903</th>\n",
       "      <td>-45.0</td>\n",
       "      <td>-31.0</td>\n",
       "      <td>-44.0</td>\n",
       "    </tr>\n",
       "    <tr>\n",
       "      <th>1904</th>\n",
       "      <td>-50.0</td>\n",
       "      <td>-49.0</td>\n",
       "      <td>-44.0</td>\n",
       "    </tr>\n",
       "  </tbody>\n",
       "</table>\n",
       "</div>"
      ],
      "text/plain": [
       "       Jun  July   Aug\n",
       "Year                  \n",
       "1900 -15.0  -9.0  -4.0\n",
       "1901 -10.0  -9.0 -13.0\n",
       "1902 -35.0 -26.0 -28.0\n",
       "1903 -45.0 -31.0 -44.0\n",
       "1904 -50.0 -49.0 -44.0"
      ]
     },
     "execution_count": 46,
     "metadata": {},
     "output_type": "execute_result"
    }
   ],
   "source": [
    "df.loc[1900:1910, ['Jun', 'July', 'Aug']].head()"
   ]
  },
  {
   "cell_type": "markdown",
   "metadata": {
    "slideshow": {
     "slide_type": "subslide"
    }
   },
   "source": [
    "**Boolean-based indexing**"
   ]
  },
  {
   "cell_type": "code",
   "execution_count": 47,
   "metadata": {
    "collapsed": false,
    "run_control": {
     "frozen": false,
     "read_only": false
    }
   },
   "outputs": [
    {
     "data": {
      "text/html": [
       "<div>\n",
       "<table border=\"1\" class=\"dataframe\">\n",
       "  <thead>\n",
       "    <tr style=\"text-align: right;\">\n",
       "      <th></th>\n",
       "      <th>Jan</th>\n",
       "      <th>Feb</th>\n",
       "      <th>Mar</th>\n",
       "      <th>Apr</th>\n",
       "      <th>May</th>\n",
       "      <th>Jun</th>\n",
       "      <th>July</th>\n",
       "      <th>Aug</th>\n",
       "      <th>Sep</th>\n",
       "      <th>Oct</th>\n",
       "      <th>Nov</th>\n",
       "      <th>Dec</th>\n",
       "    </tr>\n",
       "    <tr>\n",
       "      <th>Year</th>\n",
       "      <th></th>\n",
       "      <th></th>\n",
       "      <th></th>\n",
       "      <th></th>\n",
       "      <th></th>\n",
       "      <th></th>\n",
       "      <th></th>\n",
       "      <th></th>\n",
       "      <th></th>\n",
       "      <th></th>\n",
       "      <th></th>\n",
       "      <th></th>\n",
       "    </tr>\n",
       "  </thead>\n",
       "  <tbody>\n",
       "    <tr>\n",
       "      <th>1890</th>\n",
       "      <td>-48.0</td>\n",
       "      <td>-48.0</td>\n",
       "      <td>-41.0</td>\n",
       "      <td>-37.0</td>\n",
       "      <td>-48.0</td>\n",
       "      <td>-27.0</td>\n",
       "      <td>-29.0</td>\n",
       "      <td>-36.0</td>\n",
       "      <td>-36.0</td>\n",
       "      <td>-22.0</td>\n",
       "      <td>-37.0</td>\n",
       "      <td>-30.0</td>\n",
       "    </tr>\n",
       "    <tr>\n",
       "      <th>1892</th>\n",
       "      <td>-26.0</td>\n",
       "      <td>-15.0</td>\n",
       "      <td>-36.0</td>\n",
       "      <td>-35.0</td>\n",
       "      <td>-25.0</td>\n",
       "      <td>-20.0</td>\n",
       "      <td>-28.0</td>\n",
       "      <td>-19.0</td>\n",
       "      <td>-25.0</td>\n",
       "      <td>-16.0</td>\n",
       "      <td>-50.0</td>\n",
       "      <td>-29.0</td>\n",
       "    </tr>\n",
       "    <tr>\n",
       "      <th>1898</th>\n",
       "      <td>-7.0</td>\n",
       "      <td>-34.0</td>\n",
       "      <td>-56.0</td>\n",
       "      <td>-33.0</td>\n",
       "      <td>-36.0</td>\n",
       "      <td>-21.0</td>\n",
       "      <td>-23.0</td>\n",
       "      <td>-23.0</td>\n",
       "      <td>-19.0</td>\n",
       "      <td>-32.0</td>\n",
       "      <td>-35.0</td>\n",
       "      <td>-22.0</td>\n",
       "    </tr>\n",
       "    <tr>\n",
       "      <th>1906</th>\n",
       "      <td>-31.0</td>\n",
       "      <td>-34.0</td>\n",
       "      <td>-15.0</td>\n",
       "      <td>-3.0</td>\n",
       "      <td>-21.0</td>\n",
       "      <td>-22.0</td>\n",
       "      <td>-27.0</td>\n",
       "      <td>-19.0</td>\n",
       "      <td>-25.0</td>\n",
       "      <td>-20.0</td>\n",
       "      <td>-39.0</td>\n",
       "      <td>-18.0</td>\n",
       "    </tr>\n",
       "    <tr>\n",
       "      <th>1912</th>\n",
       "      <td>-27.0</td>\n",
       "      <td>-13.0</td>\n",
       "      <td>-37.0</td>\n",
       "      <td>-20.0</td>\n",
       "      <td>-20.0</td>\n",
       "      <td>-26.0</td>\n",
       "      <td>-41.0</td>\n",
       "      <td>-52.0</td>\n",
       "      <td>-47.0</td>\n",
       "      <td>-56.0</td>\n",
       "      <td>-38.0</td>\n",
       "      <td>-42.0</td>\n",
       "    </tr>\n",
       "  </tbody>\n",
       "</table>\n",
       "</div>"
      ],
      "text/plain": [
       "       Jan   Feb   Mar   Apr   May   Jun  July   Aug   Sep   Oct   Nov   Dec\n",
       "Year                                                                        \n",
       "1890 -48.0 -48.0 -41.0 -37.0 -48.0 -27.0 -29.0 -36.0 -36.0 -22.0 -37.0 -30.0\n",
       "1892 -26.0 -15.0 -36.0 -35.0 -25.0 -20.0 -28.0 -19.0 -25.0 -16.0 -50.0 -29.0\n",
       "1898  -7.0 -34.0 -56.0 -33.0 -36.0 -21.0 -23.0 -23.0 -19.0 -32.0 -35.0 -22.0\n",
       "1906 -31.0 -34.0 -15.0  -3.0 -21.0 -22.0 -27.0 -19.0 -25.0 -20.0 -39.0 -18.0\n",
       "1912 -27.0 -13.0 -37.0 -20.0 -20.0 -26.0 -41.0 -52.0 -47.0 -56.0 -38.0 -42.0"
      ]
     },
     "execution_count": 47,
     "metadata": {},
     "output_type": "execute_result"
    }
   ],
   "source": [
    "df[df.Jun > df.July].head()"
   ]
  },
  {
   "cell_type": "markdown",
   "metadata": {},
   "source": [
    "or, with categoricals"
   ]
  },
  {
   "cell_type": "code",
   "execution_count": 48,
   "metadata": {
    "collapsed": false,
    "run_control": {
     "frozen": false,
     "read_only": false
    }
   },
   "outputs": [
    {
     "data": {
      "text/html": [
       "<div>\n",
       "<table border=\"1\" class=\"dataframe\">\n",
       "  <thead>\n",
       "    <tr style=\"text-align: right;\">\n",
       "      <th></th>\n",
       "      <th>Year</th>\n",
       "      <th>month</th>\n",
       "      <th>temperature</th>\n",
       "    </tr>\n",
       "  </thead>\n",
       "  <tbody>\n",
       "    <tr>\n",
       "      <th>20</th>\n",
       "      <td>1900</td>\n",
       "      <td>Jan</td>\n",
       "      <td>-40.0</td>\n",
       "    </tr>\n",
       "    <tr>\n",
       "      <th>842</th>\n",
       "      <td>1900</td>\n",
       "      <td>July</td>\n",
       "      <td>-9.0</td>\n",
       "    </tr>\n",
       "    <tr>\n",
       "      <th>1527</th>\n",
       "      <td>1900</td>\n",
       "      <td>Dec</td>\n",
       "      <td>-14.0</td>\n",
       "    </tr>\n",
       "  </tbody>\n",
       "</table>\n",
       "</div>"
      ],
      "text/plain": [
       "      Year month  temperature\n",
       "20    1900   Jan        -40.0\n",
       "842   1900  July         -9.0\n",
       "1527  1900   Dec        -14.0"
      ]
     },
     "execution_count": 48,
     "metadata": {},
     "output_type": "execute_result"
    }
   ],
   "source": [
    "df_cat = pd.melt(df.reset_index(), id_vars='Year', \n",
    "                 value_vars=['Jan', 'Feb', 'Mar', 'Apr', 'May', 'Jun', 'July', \n",
    "                             'Aug', 'Sep', 'Oct', 'Nov', 'Dec'], \n",
    "                 var_name='month',value_name='temperature')\n",
    "df_cat[(df_cat.month.isin(['Jan', 'July', 'Dec'])) & (df_cat.Year == 1900)].head()"
   ]
  },
  {
   "cell_type": "markdown",
   "metadata": {
    "slideshow": {
     "slide_type": "subslide"
    }
   },
   "source": [
    "### Hierarchical / Multi-Indexing\n",
    "\n",
    "<img src=\"figs/multiindex.svg\" style=\"width: 400px\">\n",
    "\n",
    "- Explicitly denote grouped entries, organized by \"levels\"\n",
    "- Arises frequently in split-apply-combine and reshaping operations\n",
    "- Easily select groups"
   ]
  },
  {
   "cell_type": "code",
   "execution_count": 49,
   "metadata": {
    "collapsed": false,
    "run_control": {
     "frozen": false,
     "read_only": false
    },
    "slideshow": {
     "slide_type": "subslide"
    }
   },
   "outputs": [
    {
     "data": {
      "text/html": [
       "<div>\n",
       "<table border=\"1\" class=\"dataframe\">\n",
       "  <thead>\n",
       "    <tr style=\"text-align: right;\">\n",
       "      <th></th>\n",
       "      <th></th>\n",
       "      <th>temperature</th>\n",
       "    </tr>\n",
       "    <tr>\n",
       "      <th>Year</th>\n",
       "      <th>month</th>\n",
       "      <th></th>\n",
       "    </tr>\n",
       "  </thead>\n",
       "  <tbody>\n",
       "    <tr>\n",
       "      <th rowspan=\"5\" valign=\"top\">1880</th>\n",
       "      <th>Jan</th>\n",
       "      <td>-30.0</td>\n",
       "    </tr>\n",
       "    <tr>\n",
       "      <th>Feb</th>\n",
       "      <td>-21.0</td>\n",
       "    </tr>\n",
       "    <tr>\n",
       "      <th>Mar</th>\n",
       "      <td>-18.0</td>\n",
       "    </tr>\n",
       "    <tr>\n",
       "      <th>Apr</th>\n",
       "      <td>-27.0</td>\n",
       "    </tr>\n",
       "    <tr>\n",
       "      <th>May</th>\n",
       "      <td>-14.0</td>\n",
       "    </tr>\n",
       "  </tbody>\n",
       "</table>\n",
       "</div>"
      ],
      "text/plain": [
       "            temperature\n",
       "Year month             \n",
       "1880 Jan          -30.0\n",
       "     Feb          -21.0\n",
       "     Mar          -18.0\n",
       "     Apr          -27.0\n",
       "     May          -14.0"
      ]
     },
     "execution_count": 49,
     "metadata": {},
     "output_type": "execute_result"
    }
   ],
   "source": [
    "df_cat['month'] = \\\n",
    "    df_cat['month'].astype(\"category\", ordered=True,\n",
    "                           categories=[\"Jan\", \"Feb\", \"Mar\", \"Apr\", \"May\", \"Jun\",\n",
    "                                       \"July\", \"Aug\", \"Sep\", \"Oct\", \"Nov\", \"Dec\"])\n",
    "df_cat_mi = df_cat.set_index(['Year', 'month']).sortlevel()\n",
    "df_cat_mi.head()"
   ]
  },
  {
   "cell_type": "code",
   "execution_count": 50,
   "metadata": {
    "collapsed": false,
    "run_control": {
     "frozen": false,
     "read_only": false
    },
    "slideshow": {
     "slide_type": "-"
    }
   },
   "outputs": [
    {
     "data": {
      "text/html": [
       "<div>\n",
       "<table border=\"1\" class=\"dataframe\">\n",
       "  <thead>\n",
       "    <tr style=\"text-align: right;\">\n",
       "      <th></th>\n",
       "      <th></th>\n",
       "      <th>temperature</th>\n",
       "    </tr>\n",
       "    <tr>\n",
       "      <th>Year</th>\n",
       "      <th>month</th>\n",
       "      <th></th>\n",
       "    </tr>\n",
       "  </thead>\n",
       "  <tbody>\n",
       "    <tr>\n",
       "      <th rowspan=\"3\" valign=\"top\">1900</th>\n",
       "      <th>Jan</th>\n",
       "      <td>-40.0</td>\n",
       "    </tr>\n",
       "    <tr>\n",
       "      <th>Feb</th>\n",
       "      <td>-8.0</td>\n",
       "    </tr>\n",
       "    <tr>\n",
       "      <th>Mar</th>\n",
       "      <td>2.0</td>\n",
       "    </tr>\n",
       "    <tr>\n",
       "      <th rowspan=\"2\" valign=\"top\">1901</th>\n",
       "      <th>Jan</th>\n",
       "      <td>-30.0</td>\n",
       "    </tr>\n",
       "    <tr>\n",
       "      <th>Feb</th>\n",
       "      <td>-5.0</td>\n",
       "    </tr>\n",
       "  </tbody>\n",
       "</table>\n",
       "</div>"
      ],
      "text/plain": [
       "            temperature\n",
       "Year month             \n",
       "1900 Jan          -40.0\n",
       "     Feb           -8.0\n",
       "     Mar            2.0\n",
       "1901 Jan          -30.0\n",
       "     Feb           -5.0"
      ]
     },
     "execution_count": 50,
     "metadata": {},
     "output_type": "execute_result"
    }
   ],
   "source": [
    "df_cat_mi.loc[(slice(1900, 1905), slice('Jan', 'Mar')), :].head(5)"
   ]
  },
  {
   "cell_type": "markdown",
   "metadata": {
    "slideshow": {
     "slide_type": "slide"
    }
   },
   "source": [
    "## Arithmetic\n",
    "\n",
    "Like with `Series`, `DataFrame`s implement vectorized operations for most typical use cases."
   ]
  },
  {
   "cell_type": "markdown",
   "metadata": {
    "slideshow": {
     "slide_type": "fragment"
    }
   },
   "source": [
    "**Example**: GISTEMP $\\Delta$C anomalies to $\\Delta$F "
   ]
  },
  {
   "cell_type": "code",
   "execution_count": 51,
   "metadata": {
    "collapsed": false,
    "run_control": {
     "frozen": false,
     "read_only": false
    },
    "slideshow": {
     "slide_type": "-"
    }
   },
   "outputs": [
    {
     "data": {
      "text/html": [
       "<div>\n",
       "<table border=\"1\" class=\"dataframe\">\n",
       "  <thead>\n",
       "    <tr style=\"text-align: right;\">\n",
       "      <th></th>\n",
       "      <th></th>\n",
       "      <th>temperature</th>\n",
       "    </tr>\n",
       "    <tr>\n",
       "      <th>Year</th>\n",
       "      <th>month</th>\n",
       "      <th></th>\n",
       "    </tr>\n",
       "  </thead>\n",
       "  <tbody>\n",
       "    <tr>\n",
       "      <th rowspan=\"3\" valign=\"top\">1880</th>\n",
       "      <th>Jan</th>\n",
       "      <td>-0.54</td>\n",
       "    </tr>\n",
       "    <tr>\n",
       "      <th>Feb</th>\n",
       "      <td>-0.38</td>\n",
       "    </tr>\n",
       "    <tr>\n",
       "      <th>Mar</th>\n",
       "      <td>-0.32</td>\n",
       "    </tr>\n",
       "  </tbody>\n",
       "</table>\n",
       "</div>"
      ],
      "text/plain": [
       "            temperature\n",
       "Year month             \n",
       "1880 Jan          -0.54\n",
       "     Feb          -0.38\n",
       "     Mar          -0.32"
      ]
     },
     "execution_count": 51,
     "metadata": {},
     "output_type": "execute_result"
    }
   ],
   "source": [
    "res = (1./100.)*(9./5.) * df_cat_mi\n",
    "res.head(3)"
   ]
  },
  {
   "cell_type": "markdown",
   "metadata": {
    "slideshow": {
     "slide_type": "subslide"
    }
   },
   "source": [
    "Wrapped in a function..."
   ]
  },
  {
   "cell_type": "code",
   "execution_count": 52,
   "metadata": {
    "collapsed": false,
    "run_control": {
     "frozen": false,
     "read_only": false
    },
    "slideshow": {
     "slide_type": "-"
    }
   },
   "outputs": [
    {
     "data": {
      "text/html": [
       "<div>\n",
       "<table border=\"1\" class=\"dataframe\">\n",
       "  <thead>\n",
       "    <tr style=\"text-align: right;\">\n",
       "      <th></th>\n",
       "      <th></th>\n",
       "      <th>temperature</th>\n",
       "    </tr>\n",
       "    <tr>\n",
       "      <th>Year</th>\n",
       "      <th>month</th>\n",
       "      <th></th>\n",
       "    </tr>\n",
       "  </thead>\n",
       "  <tbody>\n",
       "    <tr>\n",
       "      <th rowspan=\"3\" valign=\"top\">1880</th>\n",
       "      <th>Jan</th>\n",
       "      <td>-0.54</td>\n",
       "    </tr>\n",
       "    <tr>\n",
       "      <th>Feb</th>\n",
       "      <td>-0.38</td>\n",
       "    </tr>\n",
       "    <tr>\n",
       "      <th>Mar</th>\n",
       "      <td>-0.32</td>\n",
       "    </tr>\n",
       "  </tbody>\n",
       "</table>\n",
       "</div>"
      ],
      "text/plain": [
       "            temperature\n",
       "Year month             \n",
       "1880 Jan          -0.54\n",
       "     Feb          -0.38\n",
       "     Mar          -0.32"
      ]
     },
     "execution_count": 52,
     "metadata": {},
     "output_type": "execute_result"
    }
   ],
   "source": [
    "def calc_f_anom(c_anom):\n",
    "    return c_anom*(1./100.)*(9./5.)\n",
    "\n",
    "calc_f_anom(df_cat_mi).head(3)"
   ]
  },
  {
   "cell_type": "markdown",
   "metadata": {
    "slideshow": {
     "slide_type": "fragment"
    }
   },
   "source": [
    "Using NumPy ufuncs..."
   ]
  },
  {
   "cell_type": "code",
   "execution_count": 53,
   "metadata": {
    "collapsed": false,
    "run_control": {
     "frozen": false,
     "read_only": false
    },
    "slideshow": {
     "slide_type": "fragment"
    }
   },
   "outputs": [
    {
     "data": {
      "text/html": [
       "<div>\n",
       "<table border=\"1\" class=\"dataframe\">\n",
       "  <thead>\n",
       "    <tr style=\"text-align: right;\">\n",
       "      <th></th>\n",
       "      <th></th>\n",
       "      <th>temperature</th>\n",
       "    </tr>\n",
       "    <tr>\n",
       "      <th>Year</th>\n",
       "      <th>month</th>\n",
       "      <th></th>\n",
       "    </tr>\n",
       "  </thead>\n",
       "  <tbody>\n",
       "    <tr>\n",
       "      <th rowspan=\"3\" valign=\"top\">1880</th>\n",
       "      <th>Jan</th>\n",
       "      <td>-32.31</td>\n",
       "    </tr>\n",
       "    <tr>\n",
       "      <th>Feb</th>\n",
       "      <td>-23.31</td>\n",
       "    </tr>\n",
       "    <tr>\n",
       "      <th>Mar</th>\n",
       "      <td>-20.31</td>\n",
       "    </tr>\n",
       "  </tbody>\n",
       "</table>\n",
       "</div>"
      ],
      "text/plain": [
       "            temperature\n",
       "Year month             \n",
       "1880 Jan         -32.31\n",
       "     Feb         -23.31\n",
       "     Mar         -20.31"
      ]
     },
     "execution_count": 53,
     "metadata": {},
     "output_type": "execute_result"
    }
   ],
   "source": [
    "res = df_cat_mi - np.mean(df_cat_mi)\n",
    "res.head(3)"
   ]
  },
  {
   "cell_type": "markdown",
   "metadata": {
    "slideshow": {
     "slide_type": "subslide"
    }
   },
   "source": [
    "### Index Alignment\n",
    "\n",
    "The most critical feature of pandas is its efficient, performant alignment of indices across data structures."
   ]
  },
  {
   "cell_type": "code",
   "execution_count": 54,
   "metadata": {
    "collapsed": false,
    "run_control": {
     "frozen": false,
     "read_only": false
    }
   },
   "outputs": [
    {
     "data": {
      "text/html": [
       "<div>\n",
       "<table border=\"1\" class=\"dataframe\">\n",
       "  <thead>\n",
       "    <tr style=\"text-align: right;\">\n",
       "      <th></th>\n",
       "      <th>x</th>\n",
       "      <th>y</th>\n",
       "    </tr>\n",
       "  </thead>\n",
       "  <tbody>\n",
       "    <tr>\n",
       "      <th>0</th>\n",
       "      <td>6.0</td>\n",
       "      <td>NaN</td>\n",
       "    </tr>\n",
       "    <tr>\n",
       "      <th>1</th>\n",
       "      <td>3.0</td>\n",
       "      <td>NaN</td>\n",
       "    </tr>\n",
       "    <tr>\n",
       "      <th>2</th>\n",
       "      <td>6.0</td>\n",
       "      <td>NaN</td>\n",
       "    </tr>\n",
       "    <tr>\n",
       "      <th>3</th>\n",
       "      <td>8.0</td>\n",
       "      <td>7.0</td>\n",
       "    </tr>\n",
       "    <tr>\n",
       "      <th>4</th>\n",
       "      <td>4.0</td>\n",
       "      <td>5.0</td>\n",
       "    </tr>\n",
       "    <tr>\n",
       "      <th>5</th>\n",
       "      <td>4.0</td>\n",
       "      <td>0.0</td>\n",
       "    </tr>\n",
       "    <tr>\n",
       "      <th>6</th>\n",
       "      <td>NaN</td>\n",
       "      <td>9.0</td>\n",
       "    </tr>\n",
       "    <tr>\n",
       "      <th>7</th>\n",
       "      <td>NaN</td>\n",
       "      <td>4.0</td>\n",
       "    </tr>\n",
       "    <tr>\n",
       "      <th>8</th>\n",
       "      <td>NaN</td>\n",
       "      <td>1.0</td>\n",
       "    </tr>\n",
       "  </tbody>\n",
       "</table>\n",
       "</div>"
      ],
      "text/plain": [
       "     x    y\n",
       "0  6.0  NaN\n",
       "1  3.0  NaN\n",
       "2  6.0  NaN\n",
       "3  8.0  7.0\n",
       "4  4.0  5.0\n",
       "5  4.0  0.0\n",
       "6  NaN  9.0\n",
       "7  NaN  4.0\n",
       "8  NaN  1.0"
      ]
     },
     "execution_count": 54,
     "metadata": {},
     "output_type": "execute_result"
    }
   ],
   "source": [
    "x = pd.Series(np.random.randint(0, 10, 6), index=range(6))\n",
    "y = pd.Series(np.random.randint(0, 10, 6), index=range(3, 9))\n",
    "\n",
    "df = pd.DataFrame({'x': x, 'y': y})\n",
    "df"
   ]
  },
  {
   "cell_type": "code",
   "execution_count": 55,
   "metadata": {
    "collapsed": false,
    "run_control": {
     "frozen": false,
     "read_only": false
    },
    "slideshow": {
     "slide_type": "subslide"
    }
   },
   "outputs": [
    {
     "data": {
      "text/plain": [
       "0     NaN\n",
       "1     NaN\n",
       "2     NaN\n",
       "3    15.0\n",
       "4     9.0\n",
       "5     4.0\n",
       "6     NaN\n",
       "7     NaN\n",
       "8     NaN\n",
       "dtype: float64"
      ]
     },
     "execution_count": 55,
     "metadata": {},
     "output_type": "execute_result"
    }
   ],
   "source": [
    "x + y"
   ]
  },
  {
   "cell_type": "markdown",
   "metadata": {
    "slideshow": {
     "slide_type": "fragment"
    }
   },
   "source": [
    "Removing padded indices after alignment"
   ]
  },
  {
   "cell_type": "code",
   "execution_count": 56,
   "metadata": {
    "collapsed": false,
    "run_control": {
     "frozen": false,
     "read_only": false
    },
    "slideshow": {
     "slide_type": "-"
    }
   },
   "outputs": [
    {
     "data": {
      "text/plain": [
       "3    15.0\n",
       "4     9.0\n",
       "5     4.0\n",
       "dtype: float64"
      ]
     },
     "execution_count": 56,
     "metadata": {},
     "output_type": "execute_result"
    }
   ],
   "source": [
    "(x + y).dropna()"
   ]
  },
  {
   "cell_type": "markdown",
   "metadata": {
    "slideshow": {
     "slide_type": "subslide"
    }
   },
   "source": [
    "Another simple example"
   ]
  },
  {
   "cell_type": "code",
   "execution_count": 57,
   "metadata": {
    "collapsed": false,
    "run_control": {
     "frozen": false,
     "read_only": false
    }
   },
   "outputs": [
    {
     "data": {
      "text/plain": [
       "0     2.0\n",
       "1     NaN\n",
       "2     NaN\n",
       "3    10.0\n",
       "4     NaN\n",
       "5     NaN\n",
       "6     6.0\n",
       "7     NaN\n",
       "8     NaN\n",
       "9     0.0\n",
       "dtype: float64"
      ]
     },
     "execution_count": 57,
     "metadata": {},
     "output_type": "execute_result"
    }
   ],
   "source": [
    "n = 10\n",
    "x = pd.Series(np.random.randint(0, 10, n), index=range(n))\n",
    "x + x[::3]"
   ]
  },
  {
   "cell_type": "markdown",
   "metadata": {
    "slideshow": {
     "slide_type": "subslide"
    }
   },
   "source": [
    "### Function Mapping\n",
    "\n",
    "General syntax for column/row-wise or element-wise function vectorization"
   ]
  },
  {
   "cell_type": "markdown",
   "metadata": {
    "slideshow": {
     "slide_type": "fragment"
    }
   },
   "source": [
    "**apply()** - column/row-wise vectorization"
   ]
  },
  {
   "cell_type": "code",
   "execution_count": 58,
   "metadata": {
    "collapsed": false,
    "run_control": {
     "frozen": false,
     "read_only": false
    }
   },
   "outputs": [
    {
     "data": {
      "text/plain": [
       "x    5.0\n",
       "y    9.0\n",
       "dtype: float64"
      ]
     },
     "execution_count": 58,
     "metadata": {},
     "output_type": "execute_result"
    }
   ],
   "source": [
    "def data_range(x):\n",
    "    return x.max() - x.min()\n",
    "\n",
    "df.apply(data_range)"
   ]
  },
  {
   "cell_type": "code",
   "execution_count": 59,
   "metadata": {
    "collapsed": false,
    "run_control": {
     "frozen": false,
     "read_only": false
    },
    "slideshow": {
     "slide_type": "fragment"
    }
   },
   "outputs": [
    {
     "data": {
      "text/html": [
       "<div>\n",
       "<table border=\"1\" class=\"dataframe\">\n",
       "  <thead>\n",
       "    <tr style=\"text-align: right;\">\n",
       "      <th></th>\n",
       "      <th>x</th>\n",
       "      <th>y</th>\n",
       "    </tr>\n",
       "  </thead>\n",
       "  <tbody>\n",
       "    <tr>\n",
       "      <th>min</th>\n",
       "      <td>3.0</td>\n",
       "      <td>0.0</td>\n",
       "    </tr>\n",
       "    <tr>\n",
       "      <th>median</th>\n",
       "      <td>5.0</td>\n",
       "      <td>4.5</td>\n",
       "    </tr>\n",
       "    <tr>\n",
       "      <th>max</th>\n",
       "      <td>8.0</td>\n",
       "      <td>9.0</td>\n",
       "    </tr>\n",
       "  </tbody>\n",
       "</table>\n",
       "</div>"
      ],
      "text/plain": [
       "          x    y\n",
       "min     3.0  0.0\n",
       "median  5.0  4.5\n",
       "max     8.0  9.0"
      ]
     },
     "execution_count": 59,
     "metadata": {},
     "output_type": "execute_result"
    }
   ],
   "source": [
    "def range_stats(x):\n",
    "    return pd.Series([x.min(), x.median(), x.max()], \n",
    "                     index=['min', 'median', 'max'])\n",
    "\n",
    "df.apply(range_stats)"
   ]
  },
  {
   "cell_type": "markdown",
   "metadata": {},
   "source": [
    "... automatic re-indexing on new labels"
   ]
  },
  {
   "cell_type": "markdown",
   "metadata": {
    "slideshow": {
     "slide_type": "subslide"
    }
   },
   "source": [
    "### Descriptive Statistics\n",
    "\n",
    "Many standard statistical calculations are built-in to pandas, making exploratory data analysis very easy."
   ]
  },
  {
   "cell_type": "code",
   "execution_count": 60,
   "metadata": {
    "collapsed": false,
    "run_control": {
     "frozen": false,
     "read_only": false
    }
   },
   "outputs": [
    {
     "data": {
      "text/html": [
       "<div>\n",
       "<table border=\"1\" class=\"dataframe\">\n",
       "  <thead>\n",
       "    <tr style=\"text-align: right;\">\n",
       "      <th></th>\n",
       "      <th>x</th>\n",
       "      <th>y</th>\n",
       "    </tr>\n",
       "  </thead>\n",
       "  <tbody>\n",
       "    <tr>\n",
       "      <th>count</th>\n",
       "      <td>10.00</td>\n",
       "      <td>10.00</td>\n",
       "    </tr>\n",
       "    <tr>\n",
       "      <th>mean</th>\n",
       "      <td>-0.10</td>\n",
       "      <td>-0.43</td>\n",
       "    </tr>\n",
       "    <tr>\n",
       "      <th>std</th>\n",
       "      <td>0.74</td>\n",
       "      <td>0.97</td>\n",
       "    </tr>\n",
       "    <tr>\n",
       "      <th>min</th>\n",
       "      <td>-1.35</td>\n",
       "      <td>-2.49</td>\n",
       "    </tr>\n",
       "    <tr>\n",
       "      <th>25%</th>\n",
       "      <td>-0.48</td>\n",
       "      <td>-0.67</td>\n",
       "    </tr>\n",
       "    <tr>\n",
       "      <th>50%</th>\n",
       "      <td>0.03</td>\n",
       "      <td>-0.56</td>\n",
       "    </tr>\n",
       "    <tr>\n",
       "      <th>75%</th>\n",
       "      <td>0.58</td>\n",
       "      <td>0.05</td>\n",
       "    </tr>\n",
       "    <tr>\n",
       "      <th>max</th>\n",
       "      <td>0.67</td>\n",
       "      <td>1.27</td>\n",
       "    </tr>\n",
       "  </tbody>\n",
       "</table>\n",
       "</div>"
      ],
      "text/plain": [
       "           x      y\n",
       "count  10.00  10.00\n",
       "mean   -0.10  -0.43\n",
       "std     0.74   0.97\n",
       "min    -1.35  -2.49\n",
       "25%    -0.48  -0.67\n",
       "50%     0.03  -0.56\n",
       "75%     0.58   0.05\n",
       "max     0.67   1.27"
      ]
     },
     "execution_count": 60,
     "metadata": {},
     "output_type": "execute_result"
    }
   ],
   "source": [
    "n = 10\n",
    "df = pd.DataFrame({'x': np.random.randn(n), 'y': np.random.randn(n)},\n",
    "                  index=range(1, n+1))\n",
    "df.describe()"
   ]
  },
  {
   "cell_type": "code",
   "execution_count": 61,
   "metadata": {
    "collapsed": false,
    "run_control": {
     "frozen": false,
     "read_only": false
    },
    "slideshow": {
     "slide_type": "subslide"
    }
   },
   "outputs": [
    {
     "data": {
      "text/html": [
       "<div>\n",
       "<table border=\"1\" class=\"dataframe\">\n",
       "  <thead>\n",
       "    <tr style=\"text-align: right;\">\n",
       "      <th></th>\n",
       "      <th>x</th>\n",
       "      <th>y</th>\n",
       "    </tr>\n",
       "  </thead>\n",
       "  <tbody>\n",
       "    <tr>\n",
       "      <th>mean</th>\n",
       "      <td>-0.10</td>\n",
       "      <td>-0.43</td>\n",
       "    </tr>\n",
       "    <tr>\n",
       "      <th>mad</th>\n",
       "      <td>0.61</td>\n",
       "      <td>0.67</td>\n",
       "    </tr>\n",
       "    <tr>\n",
       "      <th>25%</th>\n",
       "      <td>-0.48</td>\n",
       "      <td>-0.67</td>\n",
       "    </tr>\n",
       "    <tr>\n",
       "      <th>var</th>\n",
       "      <td>0.55</td>\n",
       "      <td>0.94</td>\n",
       "    </tr>\n",
       "    <tr>\n",
       "      <th>max</th>\n",
       "      <td>0.67</td>\n",
       "      <td>1.27</td>\n",
       "    </tr>\n",
       "    <tr>\n",
       "      <th>argmax</th>\n",
       "      <td>5.00</td>\n",
       "      <td>6.00</td>\n",
       "    </tr>\n",
       "    <tr>\n",
       "      <th>idxmax</th>\n",
       "      <td>5.00</td>\n",
       "      <td>6.00</td>\n",
       "    </tr>\n",
       "  </tbody>\n",
       "</table>\n",
       "</div>"
      ],
      "text/plain": [
       "           x     y\n",
       "mean   -0.10 -0.43\n",
       "mad     0.61  0.67\n",
       "25%    -0.48 -0.67\n",
       "var     0.55  0.94\n",
       "max     0.67  1.27\n",
       "argmax  5.00  6.00\n",
       "idxmax  5.00  6.00"
      ]
     },
     "execution_count": 61,
     "metadata": {},
     "output_type": "execute_result"
    }
   ],
   "source": [
    "def desc_stats(x):\n",
    "    return pd.Series([x.mean(), x.mad(), x.quantile(.25), x.var(), \n",
    "                      x.max(), x.argmax(), x.idxmax()],\n",
    "                     index=['mean', 'mad', '25%', 'var', 'max', 'argmax', 'idxmax'])\n",
    "df.apply(desc_stats)"
   ]
  },
  {
   "cell_type": "markdown",
   "metadata": {
    "slideshow": {
     "slide_type": "slide"
    }
   },
   "source": [
    "## Timeseries"
   ]
  },
  {
   "cell_type": "markdown",
   "metadata": {
    "slideshow": {
     "slide_type": "subslide"
    }
   },
   "source": [
    "### Time in Python\n",
    "\n",
    "Python already ships with libraries for manipulating date and timestamps"
   ]
  },
  {
   "cell_type": "code",
   "execution_count": 62,
   "metadata": {
    "collapsed": false,
    "run_control": {
     "frozen": false,
     "read_only": false
    }
   },
   "outputs": [
    {
     "name": "stdout",
     "output_type": "stream",
     "text": [
      "2017-01-22 16:05:36.290124\n"
     ]
    }
   ],
   "source": [
    "from datetime import datetime\n",
    "\n",
    "now = datetime.now()\n",
    "print(now)"
   ]
  },
  {
   "cell_type": "code",
   "execution_count": 63,
   "metadata": {
    "collapsed": false,
    "run_control": {
     "frozen": false,
     "read_only": false
    }
   },
   "outputs": [
    {
     "data": {
      "text/plain": [
       "(2017, 1, 22, 16)"
      ]
     },
     "execution_count": 63,
     "metadata": {},
     "output_type": "execute_result"
    }
   ],
   "source": [
    "now.year, now.month, now.day, now.hour"
   ]
  },
  {
   "cell_type": "markdown",
   "metadata": {
    "slideshow": {
     "slide_type": "subslide"
    }
   },
   "source": [
    "**Time deltas** - why keep track of a complicated base-60 number system when something else can do it for you?"
   ]
  },
  {
   "cell_type": "code",
   "execution_count": 64,
   "metadata": {
    "collapsed": false,
    "run_control": {
     "frozen": false,
     "read_only": false
    }
   },
   "outputs": [
    {
     "data": {
      "text/plain": [
       "62220.0"
      ]
     },
     "execution_count": 64,
     "metadata": {},
     "output_type": "execute_result"
    }
   ],
   "source": [
    "delta = datetime(2017, 1, 18) - datetime(2017, 1, 17, 6, 43)\n",
    "delta.total_seconds()"
   ]
  },
  {
   "cell_type": "code",
   "execution_count": 65,
   "metadata": {
    "collapsed": false,
    "run_control": {
     "frozen": false,
     "read_only": false
    }
   },
   "outputs": [
    {
     "name": "stdout",
     "output_type": "stream",
     "text": [
      "2017-01-18 15:45:00\n"
     ]
    }
   ],
   "source": [
    "from datetime import timedelta\n",
    "\n",
    "delta = timedelta(hours=3, minutes=30)\n",
    "print(delta + datetime(2017, 1, 18, 12, 15))"
   ]
  },
  {
   "cell_type": "markdown",
   "metadata": {
    "slideshow": {
     "slide_type": "subslide"
    }
   },
   "source": [
    "**Parsing / Shuffling Timestamps**"
   ]
  },
  {
   "cell_type": "code",
   "execution_count": 66,
   "metadata": {
    "collapsed": false,
    "run_control": {
     "frozen": false,
     "read_only": false
    }
   },
   "outputs": [
    {
     "data": {
      "text/plain": [
       "'Sunday, Jan 22 at 04:01PM'"
      ]
     },
     "execution_count": 66,
     "metadata": {},
     "output_type": "execute_result"
    }
   ],
   "source": [
    "now.strftime(\"%A, %b %d at %I:%m%p\")"
   ]
  },
  {
   "cell_type": "code",
   "execution_count": 67,
   "metadata": {
    "collapsed": false,
    "run_control": {
     "frozen": false,
     "read_only": false
    }
   },
   "outputs": [
    {
     "name": "stdout",
     "output_type": "stream",
     "text": [
      "2017-01-17 20:57:00\n"
     ]
    }
   ],
   "source": [
    "timestamp = \"2017-01-18\"\n",
    "x = datetime.strptime(timestamp, \"%Y-%m-%d\") - timedelta(hours=3, minutes=3)\n",
    "print(x)"
   ]
  },
  {
   "cell_type": "markdown",
   "metadata": {},
   "source": [
    "Python adheres to [C-standard time format codes](https://docs.python.org/3/library/datetime.html#strftime-strptime-behavior)"
   ]
  },
  {
   "cell_type": "markdown",
   "metadata": {
    "slideshow": {
     "slide_type": "subslide"
    }
   },
   "source": [
    "### Time Indices\n",
    "\n",
    "Using date or timestamps as an **Index** automatically promotes your **Series** to a **TimeSeries** object with some additional useful features."
   ]
  },
  {
   "cell_type": "code",
   "execution_count": 68,
   "metadata": {
    "collapsed": false,
    "run_control": {
     "frozen": false,
     "read_only": false
    },
    "slideshow": {
     "slide_type": "fragment"
    }
   },
   "outputs": [
    {
     "data": {
      "text/plain": [
       "2017-01-01    0\n",
       "2017-01-02    5\n",
       "2017-01-03    6\n",
       "2017-01-04    0\n",
       "2017-01-05    0\n",
       "dtype: int64"
      ]
     },
     "execution_count": 68,
     "metadata": {},
     "output_type": "execute_result"
    }
   ],
   "source": [
    "times = [datetime(2017, 1, day) for day in range(1, 31)]\n",
    "ts = pd.Series(np.random.randint(0, 10, len(times)), index=times)\n",
    "ts.head()"
   ]
  },
  {
   "cell_type": "code",
   "execution_count": 69,
   "metadata": {
    "collapsed": false,
    "run_control": {
     "frozen": false,
     "read_only": false
    }
   },
   "outputs": [
    {
     "data": {
      "text/plain": [
       "DatetimeIndex(['2017-01-01', '2017-01-02', '2017-01-03', '2017-01-04',\n",
       "               '2017-01-05'],\n",
       "              dtype='datetime64[ns]', freq=None)"
      ]
     },
     "execution_count": 69,
     "metadata": {},
     "output_type": "execute_result"
    }
   ],
   "source": [
    "ts.index[:5]"
   ]
  },
  {
   "cell_type": "code",
   "execution_count": 70,
   "metadata": {
    "collapsed": false,
    "run_control": {
     "frozen": false,
     "read_only": false
    }
   },
   "outputs": [
    {
     "data": {
      "text/plain": [
       "Timestamp('2017-01-06 00:00:00')"
      ]
     },
     "execution_count": 70,
     "metadata": {},
     "output_type": "execute_result"
    }
   ],
   "source": [
    "ts.index[5]"
   ]
  },
  {
   "cell_type": "markdown",
   "metadata": {
    "slideshow": {
     "slide_type": "subslide"
    }
   },
   "source": [
    "**`pd.date_range()`** - for quickly creating time indices\n",
    "\n",
    "Option 1) Frequency between given start/end datetimes"
   ]
  },
  {
   "cell_type": "code",
   "execution_count": 71,
   "metadata": {
    "collapsed": false,
    "run_control": {
     "frozen": false,
     "read_only": false
    }
   },
   "outputs": [
    {
     "data": {
      "text/plain": [
       "DatetimeIndex(['2017-01-01', '2017-01-04', '2017-01-07', '2017-01-10',\n",
       "               '2017-01-13', '2017-01-16', '2017-01-19', '2017-01-22',\n",
       "               '2017-01-25', '2017-01-28'],\n",
       "              dtype='datetime64[ns]', freq='3D')"
      ]
     },
     "execution_count": 71,
     "metadata": {},
     "output_type": "execute_result"
    }
   ],
   "source": [
    "pd.date_range(start='1/1/2017', end='1/30/2017', freq='3D')"
   ]
  },
  {
   "cell_type": "markdown",
   "metadata": {},
   "source": [
    "Option 2) Begin date with specified number of periods"
   ]
  },
  {
   "cell_type": "code",
   "execution_count": 72,
   "metadata": {
    "collapsed": false,
    "run_control": {
     "frozen": false,
     "read_only": false
    }
   },
   "outputs": [
    {
     "data": {
      "text/plain": [
       "DatetimeIndex(['2017-01-01', '2017-01-15', '2017-01-29', '2017-02-12',\n",
       "               '2017-02-26', '2017-03-12'],\n",
       "              dtype='datetime64[ns]', freq='2W-SUN')"
      ]
     },
     "execution_count": 72,
     "metadata": {},
     "output_type": "execute_result"
    }
   ],
   "source": [
    "pd.date_range(start='1/1/2017', freq='2W', periods=6)"
   ]
  },
  {
   "cell_type": "markdown",
   "metadata": {
    "slideshow": {
     "slide_type": "subslide"
    }
   },
   "source": [
    "### Time Selection\n",
    "\n",
    "Because time has a natural ordering, it's easy to slice the data you want out of a **TimeSeries**"
   ]
  },
  {
   "cell_type": "code",
   "execution_count": 73,
   "metadata": {
    "collapsed": false,
    "run_control": {
     "frozen": false,
     "read_only": false
    }
   },
   "outputs": [
    {
     "data": {
      "text/html": [
       "<div>\n",
       "<table border=\"1\" class=\"dataframe\">\n",
       "  <thead>\n",
       "    <tr style=\"text-align: right;\">\n",
       "      <th></th>\n",
       "      <th>temperature</th>\n",
       "      <th>wind_dir</th>\n",
       "      <th>wind_speed</th>\n",
       "    </tr>\n",
       "  </thead>\n",
       "  <tbody>\n",
       "    <tr>\n",
       "      <th>2017-01-01 00:00:00</th>\n",
       "      <td>11</td>\n",
       "      <td>273</td>\n",
       "      <td>0.01</td>\n",
       "    </tr>\n",
       "    <tr>\n",
       "      <th>2017-01-01 01:00:00</th>\n",
       "      <td>8</td>\n",
       "      <td>283</td>\n",
       "      <td>1.18</td>\n",
       "    </tr>\n",
       "    <tr>\n",
       "      <th>2017-01-01 02:00:00</th>\n",
       "      <td>4</td>\n",
       "      <td>313</td>\n",
       "      <td>0.27</td>\n",
       "    </tr>\n",
       "    <tr>\n",
       "      <th>2017-01-01 03:00:00</th>\n",
       "      <td>7</td>\n",
       "      <td>198</td>\n",
       "      <td>1.03</td>\n",
       "    </tr>\n",
       "    <tr>\n",
       "      <th>2017-01-01 04:00:00</th>\n",
       "      <td>28</td>\n",
       "      <td>358</td>\n",
       "      <td>1.21</td>\n",
       "    </tr>\n",
       "  </tbody>\n",
       "</table>\n",
       "</div>"
      ],
      "text/plain": [
       "                     temperature  wind_dir  wind_speed\n",
       "2017-01-01 00:00:00           11       273        0.01\n",
       "2017-01-01 01:00:00            8       283        1.18\n",
       "2017-01-01 02:00:00            4       313        0.27\n",
       "2017-01-01 03:00:00            7       198        1.03\n",
       "2017-01-01 04:00:00           28       358        1.21"
      ]
     },
     "execution_count": 73,
     "metadata": {},
     "output_type": "execute_result"
    }
   ],
   "source": [
    "times = pd.date_range(start='2017-01-01', end='2017-01-031', freq='1H')\n",
    "n = len(times)\n",
    "weather_data = pd.DataFrame({'temperature': np.random.randint(-10, 54, n),\n",
    "                             'wind_speed': np.abs(np.random.randn(n)),\n",
    "                             'wind_dir': np.random.randint(0, 360, n)},\n",
    "                            index=times)\n",
    "weather_data.head()"
   ]
  },
  {
   "cell_type": "markdown",
   "metadata": {
    "slideshow": {
     "slide_type": "fragment"
    }
   },
   "source": [
    "Select a single day:"
   ]
  },
  {
   "cell_type": "code",
   "execution_count": 74,
   "metadata": {
    "collapsed": false,
    "run_control": {
     "frozen": false,
     "read_only": false
    }
   },
   "outputs": [
    {
     "data": {
      "text/html": [
       "<div>\n",
       "<table border=\"1\" class=\"dataframe\">\n",
       "  <thead>\n",
       "    <tr style=\"text-align: right;\">\n",
       "      <th></th>\n",
       "      <th>temperature</th>\n",
       "      <th>wind_dir</th>\n",
       "      <th>wind_speed</th>\n",
       "    </tr>\n",
       "  </thead>\n",
       "  <tbody>\n",
       "    <tr>\n",
       "      <th>2017-01-13 00:00:00</th>\n",
       "      <td>6</td>\n",
       "      <td>244</td>\n",
       "      <td>0.17</td>\n",
       "    </tr>\n",
       "    <tr>\n",
       "      <th>2017-01-13 01:00:00</th>\n",
       "      <td>1</td>\n",
       "      <td>104</td>\n",
       "      <td>1.23</td>\n",
       "    </tr>\n",
       "    <tr>\n",
       "      <th>2017-01-13 02:00:00</th>\n",
       "      <td>50</td>\n",
       "      <td>76</td>\n",
       "      <td>0.20</td>\n",
       "    </tr>\n",
       "  </tbody>\n",
       "</table>\n",
       "</div>"
      ],
      "text/plain": [
       "                     temperature  wind_dir  wind_speed\n",
       "2017-01-13 00:00:00            6       244        0.17\n",
       "2017-01-13 01:00:00            1       104        1.23\n",
       "2017-01-13 02:00:00           50        76        0.20"
      ]
     },
     "execution_count": 74,
     "metadata": {},
     "output_type": "execute_result"
    }
   ],
   "source": [
    "weather_data.loc[\"1/13/2017\"].head(3)"
   ]
  },
  {
   "cell_type": "markdown",
   "metadata": {
    "slideshow": {
     "slide_type": "subslide"
    }
   },
   "source": [
    "Select an arbitrary 12-hour period:"
   ]
  },
  {
   "cell_type": "code",
   "execution_count": 75,
   "metadata": {
    "collapsed": false,
    "run_control": {
     "frozen": false,
     "read_only": false
    }
   },
   "outputs": [
    {
     "data": {
      "text/html": [
       "<div>\n",
       "<table border=\"1\" class=\"dataframe\">\n",
       "  <thead>\n",
       "    <tr style=\"text-align: right;\">\n",
       "      <th></th>\n",
       "      <th>temperature</th>\n",
       "      <th>wind_dir</th>\n",
       "      <th>wind_speed</th>\n",
       "    </tr>\n",
       "  </thead>\n",
       "  <tbody>\n",
       "    <tr>\n",
       "      <th>2017-01-28 21:00:00</th>\n",
       "      <td>50</td>\n",
       "      <td>82</td>\n",
       "      <td>0.35</td>\n",
       "    </tr>\n",
       "    <tr>\n",
       "      <th>2017-01-28 22:00:00</th>\n",
       "      <td>10</td>\n",
       "      <td>280</td>\n",
       "      <td>0.64</td>\n",
       "    </tr>\n",
       "    <tr>\n",
       "      <th>2017-01-28 23:00:00</th>\n",
       "      <td>23</td>\n",
       "      <td>341</td>\n",
       "      <td>0.26</td>\n",
       "    </tr>\n",
       "  </tbody>\n",
       "</table>\n",
       "</div>"
      ],
      "text/plain": [
       "                     temperature  wind_dir  wind_speed\n",
       "2017-01-28 21:00:00           50        82        0.35\n",
       "2017-01-28 22:00:00           10       280        0.64\n",
       "2017-01-28 23:00:00           23       341        0.26"
      ]
     },
     "execution_count": 75,
     "metadata": {},
     "output_type": "execute_result"
    }
   ],
   "source": [
    "weather_data.loc[\"1/28/2017 21:00:00\":\"1/29/2017 03:00:00\"].head(3)"
   ]
  },
  {
   "cell_type": "markdown",
   "metadata": {
    "slideshow": {
     "slide_type": "fragment"
    }
   },
   "source": [
    "Alternative way to window data:"
   ]
  },
  {
   "cell_type": "code",
   "execution_count": 76,
   "metadata": {
    "collapsed": false,
    "run_control": {
     "frozen": false,
     "read_only": false
    }
   },
   "outputs": [
    {
     "data": {
      "text/html": [
       "<div>\n",
       "<table border=\"1\" class=\"dataframe\">\n",
       "  <thead>\n",
       "    <tr style=\"text-align: right;\">\n",
       "      <th></th>\n",
       "      <th>temperature</th>\n",
       "      <th>wind_dir</th>\n",
       "      <th>wind_speed</th>\n",
       "    </tr>\n",
       "  </thead>\n",
       "  <tbody>\n",
       "    <tr>\n",
       "      <th>2017-01-28 12:00:00</th>\n",
       "      <td>47</td>\n",
       "      <td>43</td>\n",
       "      <td>0.60</td>\n",
       "    </tr>\n",
       "    <tr>\n",
       "      <th>2017-01-28 13:00:00</th>\n",
       "      <td>-5</td>\n",
       "      <td>79</td>\n",
       "      <td>2.02</td>\n",
       "    </tr>\n",
       "    <tr>\n",
       "      <th>2017-01-28 14:00:00</th>\n",
       "      <td>29</td>\n",
       "      <td>353</td>\n",
       "      <td>0.79</td>\n",
       "    </tr>\n",
       "  </tbody>\n",
       "</table>\n",
       "</div>"
      ],
      "text/plain": [
       "                     temperature  wind_dir  wind_speed\n",
       "2017-01-28 12:00:00           47        43        0.60\n",
       "2017-01-28 13:00:00           -5        79        2.02\n",
       "2017-01-28 14:00:00           29       353        0.79"
      ]
     },
     "execution_count": 76,
     "metadata": {},
     "output_type": "execute_result"
    }
   ],
   "source": [
    "weather_data.truncate(before=\"1/28/2017 12:00:00\", after=\"1/31/2017\").head(3)"
   ]
  },
  {
   "cell_type": "markdown",
   "metadata": {
    "slideshow": {
     "slide_type": "subslide"
    }
   },
   "source": [
    "### Resampling\n",
    "\n",
    "- **Downsampling** or \"aggregation\": high frequency -> low frequency\n",
    "- **Upsampling** or \"interpolation\": low frequency -> high frequency"
   ]
  },
  {
   "cell_type": "code",
   "execution_count": 77,
   "metadata": {
    "collapsed": false,
    "run_control": {
     "frozen": false,
     "read_only": false
    },
    "slideshow": {
     "slide_type": "fragment"
    }
   },
   "outputs": [
    {
     "data": {
      "text/html": [
       "<div>\n",
       "<table border=\"1\" class=\"dataframe\">\n",
       "  <thead>\n",
       "    <tr style=\"text-align: right;\">\n",
       "      <th></th>\n",
       "      <th>temperature</th>\n",
       "      <th>wind_dir</th>\n",
       "      <th>wind_speed</th>\n",
       "    </tr>\n",
       "  </thead>\n",
       "  <tbody>\n",
       "    <tr>\n",
       "      <th>2017-01-01</th>\n",
       "      <td>52</td>\n",
       "      <td>358</td>\n",
       "      <td>2.19</td>\n",
       "    </tr>\n",
       "    <tr>\n",
       "      <th>2017-01-02</th>\n",
       "      <td>53</td>\n",
       "      <td>349</td>\n",
       "      <td>1.59</td>\n",
       "    </tr>\n",
       "    <tr>\n",
       "      <th>2017-01-03</th>\n",
       "      <td>53</td>\n",
       "      <td>355</td>\n",
       "      <td>2.34</td>\n",
       "    </tr>\n",
       "    <tr>\n",
       "      <th>2017-01-04</th>\n",
       "      <td>49</td>\n",
       "      <td>318</td>\n",
       "      <td>2.52</td>\n",
       "    </tr>\n",
       "    <tr>\n",
       "      <th>2017-01-05</th>\n",
       "      <td>53</td>\n",
       "      <td>332</td>\n",
       "      <td>1.66</td>\n",
       "    </tr>\n",
       "  </tbody>\n",
       "</table>\n",
       "</div>"
      ],
      "text/plain": [
       "            temperature  wind_dir  wind_speed\n",
       "2017-01-01           52       358        2.19\n",
       "2017-01-02           53       349        1.59\n",
       "2017-01-03           53       355        2.34\n",
       "2017-01-04           49       318        2.52\n",
       "2017-01-05           53       332        1.66"
      ]
     },
     "execution_count": 77,
     "metadata": {},
     "output_type": "execute_result"
    }
   ],
   "source": [
    "daily = weather_data.resample('D').max()\n",
    "daily.head()"
   ]
  },
  {
   "cell_type": "code",
   "execution_count": 78,
   "metadata": {
    "collapsed": false,
    "run_control": {
     "frozen": false,
     "read_only": false
    }
   },
   "outputs": [
    {
     "data": {
      "text/html": [
       "<div>\n",
       "<table border=\"1\" class=\"dataframe\">\n",
       "  <thead>\n",
       "    <tr style=\"text-align: right;\">\n",
       "      <th></th>\n",
       "      <th>temperature</th>\n",
       "      <th>wind_dir</th>\n",
       "      <th>wind_speed</th>\n",
       "    </tr>\n",
       "  </thead>\n",
       "  <tbody>\n",
       "    <tr>\n",
       "      <th>2017-01-04</th>\n",
       "      <td>21.16</td>\n",
       "      <td>178.42</td>\n",
       "      <td>0.84</td>\n",
       "    </tr>\n",
       "    <tr>\n",
       "      <th>2017-01-11</th>\n",
       "      <td>20.50</td>\n",
       "      <td>187.66</td>\n",
       "      <td>0.90</td>\n",
       "    </tr>\n",
       "  </tbody>\n",
       "</table>\n",
       "</div>"
      ],
      "text/plain": [
       "            temperature  wind_dir  wind_speed\n",
       "2017-01-04        21.16    178.42        0.84\n",
       "2017-01-11        20.50    187.66        0.90"
      ]
     },
     "execution_count": 78,
     "metadata": {},
     "output_type": "execute_result"
    }
   ],
   "source": [
    "weekly = weather_data.loc['2017-01-01':'2017-01-10'].resample('W-WED').mean()\n",
    "weekly.head()"
   ]
  },
  {
   "cell_type": "markdown",
   "metadata": {},
   "source": [
    "---"
   ]
  },
  {
   "cell_type": "markdown",
   "metadata": {
    "slideshow": {
     "slide_type": "slide"
    }
   },
   "source": [
    "## Digging deeper...\n",
    "\n",
    "The basics are important to know, but pandas' utility goes far beyond simple data structures. Here, we'll introduce two features of that will help your daily exploratory data analysis workflows: **visualization** and the **split-apply-combine** idiom for grouped operations.\n"
   ]
  },
  {
   "cell_type": "markdown",
   "metadata": {
    "slideshow": {
     "slide_type": "subslide"
    }
   },
   "source": [
    "### [US Historical Climatology Network](http://cdiac.ornl.gov/epubs/ndp/ushcn/ushcn.html)\n",
    "\n",
    "\n",
    "<img src=\"figs/ushcn_stations.png\">\n",
    "\n",
    "- Daily / Monthly temperature and precipitation statistics from 1218 sites across CONUS\n",
    "- Some stations have over 100 years of data\n",
    "- Data is quality-controlled and \"homogenized\"\n"
   ]
  },
  {
   "cell_type": "markdown",
   "metadata": {
    "slideshow": {
     "slide_type": "subslide"
    }
   },
   "source": [
    "### Station Data"
   ]
  },
  {
   "cell_type": "code",
   "execution_count": 79,
   "metadata": {
    "collapsed": false,
    "run_control": {
     "frozen": false,
     "read_only": false
    },
    "slideshow": {
     "slide_type": "-"
    }
   },
   "outputs": [
    {
     "data": {
      "text/html": [
       "<div>\n",
       "<table border=\"1\" class=\"dataframe\">\n",
       "  <thead>\n",
       "    <tr style=\"text-align: right;\">\n",
       "      <th></th>\n",
       "      <th>LAT</th>\n",
       "      <th>LON</th>\n",
       "      <th>ELEV</th>\n",
       "      <th>STATE</th>\n",
       "      <th>NAME</th>\n",
       "      <th>COMP1</th>\n",
       "      <th>COMP2</th>\n",
       "      <th>COMP3</th>\n",
       "      <th>dUTC</th>\n",
       "    </tr>\n",
       "    <tr>\n",
       "      <th>COOP_ID</th>\n",
       "      <th></th>\n",
       "      <th></th>\n",
       "      <th></th>\n",
       "      <th></th>\n",
       "      <th></th>\n",
       "      <th></th>\n",
       "      <th></th>\n",
       "      <th></th>\n",
       "      <th></th>\n",
       "    </tr>\n",
       "  </thead>\n",
       "  <tbody>\n",
       "    <tr>\n",
       "      <th>11084</th>\n",
       "      <td>31.06</td>\n",
       "      <td>-87.05</td>\n",
       "      <td>25.9</td>\n",
       "      <td>AL</td>\n",
       "      <td>BREWTON 3 SSE</td>\n",
       "      <td>------</td>\n",
       "      <td>------</td>\n",
       "      <td>------</td>\n",
       "      <td>6</td>\n",
       "    </tr>\n",
       "    <tr>\n",
       "      <th>12813</th>\n",
       "      <td>30.55</td>\n",
       "      <td>-87.88</td>\n",
       "      <td>7.0</td>\n",
       "      <td>AL</td>\n",
       "      <td>FAIRHOPE 2 NE</td>\n",
       "      <td>------</td>\n",
       "      <td>------</td>\n",
       "      <td>------</td>\n",
       "      <td>6</td>\n",
       "    </tr>\n",
       "    <tr>\n",
       "      <th>13160</th>\n",
       "      <td>32.83</td>\n",
       "      <td>-88.13</td>\n",
       "      <td>38.1</td>\n",
       "      <td>AL</td>\n",
       "      <td>GAINESVILLE LOCK</td>\n",
       "      <td>011694</td>\n",
       "      <td>------</td>\n",
       "      <td>------</td>\n",
       "      <td>6</td>\n",
       "    </tr>\n",
       "    <tr>\n",
       "      <th>13511</th>\n",
       "      <td>32.70</td>\n",
       "      <td>-87.58</td>\n",
       "      <td>67.1</td>\n",
       "      <td>AL</td>\n",
       "      <td>GREENSBORO</td>\n",
       "      <td>------</td>\n",
       "      <td>------</td>\n",
       "      <td>------</td>\n",
       "      <td>6</td>\n",
       "    </tr>\n",
       "    <tr>\n",
       "      <th>13816</th>\n",
       "      <td>31.87</td>\n",
       "      <td>-86.25</td>\n",
       "      <td>132.0</td>\n",
       "      <td>AL</td>\n",
       "      <td>HIGHLAND HOME</td>\n",
       "      <td>------</td>\n",
       "      <td>------</td>\n",
       "      <td>------</td>\n",
       "      <td>6</td>\n",
       "    </tr>\n",
       "  </tbody>\n",
       "</table>\n",
       "</div>"
      ],
      "text/plain": [
       "           LAT    LON   ELEV STATE              NAME   COMP1   COMP2   COMP3  \\\n",
       "COOP_ID                                                                        \n",
       "11084    31.06 -87.05   25.9    AL     BREWTON 3 SSE  ------  ------  ------   \n",
       "12813    30.55 -87.88    7.0    AL     FAIRHOPE 2 NE  ------  ------  ------   \n",
       "13160    32.83 -88.13   38.1    AL  GAINESVILLE LOCK  011694  ------  ------   \n",
       "13511    32.70 -87.58   67.1    AL        GREENSBORO  ------  ------  ------   \n",
       "13816    31.87 -86.25  132.0    AL     HIGHLAND HOME  ------  ------  ------   \n",
       "\n",
       "         dUTC  \n",
       "COOP_ID        \n",
       "11084       6  \n",
       "12813       6  \n",
       "13160       6  \n",
       "13511       6  \n",
       "13816       6  "
      ]
     },
     "execution_count": 79,
     "metadata": {},
     "output_type": "execute_result"
    }
   ],
   "source": [
    "stations.head()"
   ]
  },
  {
   "cell_type": "markdown",
   "metadata": {
    "slideshow": {
     "slide_type": "subslide"
    }
   },
   "source": [
    "### Merging datasets\n",
    "\n",
    "Relational-database style joins/merges/concatenations"
   ]
  },
  {
   "cell_type": "code",
   "execution_count": 80,
   "metadata": {
    "collapsed": false,
    "run_control": {
     "frozen": false,
     "read_only": false
    }
   },
   "outputs": [
    {
     "data": {
      "text/html": [
       "<div>\n",
       "<table border=\"1\" class=\"dataframe\">\n",
       "  <thead>\n",
       "    <tr style=\"text-align: right;\">\n",
       "      <th></th>\n",
       "      <th></th>\n",
       "      <th>tmax</th>\n",
       "      <th>LAT</th>\n",
       "      <th>LON</th>\n",
       "      <th>ELEV</th>\n",
       "      <th>STATE</th>\n",
       "      <th>NAME</th>\n",
       "      <th>COMP1</th>\n",
       "      <th>COMP2</th>\n",
       "      <th>COMP3</th>\n",
       "      <th>dUTC</th>\n",
       "    </tr>\n",
       "    <tr>\n",
       "      <th>COOP_ID</th>\n",
       "      <th>date</th>\n",
       "      <th></th>\n",
       "      <th></th>\n",
       "      <th></th>\n",
       "      <th></th>\n",
       "      <th></th>\n",
       "      <th></th>\n",
       "      <th></th>\n",
       "      <th></th>\n",
       "      <th></th>\n",
       "      <th></th>\n",
       "    </tr>\n",
       "  </thead>\n",
       "  <tbody>\n",
       "    <tr>\n",
       "      <th rowspan=\"5\" valign=\"top\">11084</th>\n",
       "      <th>1891-01-01</th>\n",
       "      <td>NaN</td>\n",
       "      <td>31.06</td>\n",
       "      <td>-87.05</td>\n",
       "      <td>25.9</td>\n",
       "      <td>AL</td>\n",
       "      <td>BREWTON 3 SSE</td>\n",
       "      <td>------</td>\n",
       "      <td>------</td>\n",
       "      <td>------</td>\n",
       "      <td>6</td>\n",
       "    </tr>\n",
       "    <tr>\n",
       "      <th>1891-02-01</th>\n",
       "      <td>NaN</td>\n",
       "      <td>31.06</td>\n",
       "      <td>-87.05</td>\n",
       "      <td>25.9</td>\n",
       "      <td>AL</td>\n",
       "      <td>BREWTON 3 SSE</td>\n",
       "      <td>------</td>\n",
       "      <td>------</td>\n",
       "      <td>------</td>\n",
       "      <td>6</td>\n",
       "    </tr>\n",
       "    <tr>\n",
       "      <th>1891-03-01</th>\n",
       "      <td>NaN</td>\n",
       "      <td>31.06</td>\n",
       "      <td>-87.05</td>\n",
       "      <td>25.9</td>\n",
       "      <td>AL</td>\n",
       "      <td>BREWTON 3 SSE</td>\n",
       "      <td>------</td>\n",
       "      <td>------</td>\n",
       "      <td>------</td>\n",
       "      <td>6</td>\n",
       "    </tr>\n",
       "    <tr>\n",
       "      <th>1891-04-01</th>\n",
       "      <td>NaN</td>\n",
       "      <td>31.06</td>\n",
       "      <td>-87.05</td>\n",
       "      <td>25.9</td>\n",
       "      <td>AL</td>\n",
       "      <td>BREWTON 3 SSE</td>\n",
       "      <td>------</td>\n",
       "      <td>------</td>\n",
       "      <td>------</td>\n",
       "      <td>6</td>\n",
       "    </tr>\n",
       "    <tr>\n",
       "      <th>1891-05-01</th>\n",
       "      <td>NaN</td>\n",
       "      <td>31.06</td>\n",
       "      <td>-87.05</td>\n",
       "      <td>25.9</td>\n",
       "      <td>AL</td>\n",
       "      <td>BREWTON 3 SSE</td>\n",
       "      <td>------</td>\n",
       "      <td>------</td>\n",
       "      <td>------</td>\n",
       "      <td>6</td>\n",
       "    </tr>\n",
       "  </tbody>\n",
       "</table>\n",
       "</div>"
      ],
      "text/plain": [
       "                    tmax    LAT    LON  ELEV STATE           NAME   COMP1  \\\n",
       "COOP_ID date                                                                \n",
       "11084   1891-01-01   NaN  31.06 -87.05  25.9    AL  BREWTON 3 SSE  ------   \n",
       "        1891-02-01   NaN  31.06 -87.05  25.9    AL  BREWTON 3 SSE  ------   \n",
       "        1891-03-01   NaN  31.06 -87.05  25.9    AL  BREWTON 3 SSE  ------   \n",
       "        1891-04-01   NaN  31.06 -87.05  25.9    AL  BREWTON 3 SSE  ------   \n",
       "        1891-05-01   NaN  31.06 -87.05  25.9    AL  BREWTON 3 SSE  ------   \n",
       "\n",
       "                     COMP2   COMP3  dUTC  \n",
       "COOP_ID date                              \n",
       "11084   1891-01-01  ------  ------     6  \n",
       "        1891-02-01  ------  ------     6  \n",
       "        1891-03-01  ------  ------     6  \n",
       "        1891-04-01  ------  ------     6  \n",
       "        1891-05-01  ------  ------     6  "
      ]
     },
     "execution_count": 80,
     "metadata": {},
     "output_type": "execute_result"
    }
   ],
   "source": [
    "tmax_merged = (\n",
    "    tmax.reset_index()\n",
    "        .join(stations, on='COOP_ID')\n",
    "        .set_index(['COOP_ID', 'date'])\n",
    ")\n",
    "tmax_merged.head()"
   ]
  },
  {
   "cell_type": "markdown",
   "metadata": {
    "slideshow": {
     "slide_type": "subslide"
    }
   },
   "source": [
    "### Blue Hill Observatory\n",
    "\n",
    "\n",
    "<img src=\"figs/drynanbestforemail.jpg\" style='width: 500px'>\n",
    "\n",
    "**COOP ID**: 190736"
   ]
  },
  {
   "cell_type": "code",
   "execution_count": 81,
   "metadata": {
    "collapsed": false,
    "run_control": {
     "frozen": false,
     "read_only": false
    },
    "slideshow": {
     "slide_type": "subslide"
    }
   },
   "outputs": [
    {
     "data": {
      "text/plain": [
       "LAT             42\n",
       "LON            -71\n",
       "ELEV       1.9e+02\n",
       "STATE           MA\n",
       "NAME     BLUE HILL\n",
       "COMP1       ------\n",
       "COMP2       ------\n",
       "COMP3       ------\n",
       "dUTC             5\n",
       "Name: 190736, dtype: object"
      ]
     },
     "execution_count": 81,
     "metadata": {},
     "output_type": "execute_result"
    }
   ],
   "source": [
    "station = stations.ix[190736]\n",
    "station"
   ]
  },
  {
   "cell_type": "markdown",
   "metadata": {
    "slideshow": {
     "slide_type": "fragment"
    }
   },
   "source": [
    "**Select observations from Blue Hill Observatory**"
   ]
  },
  {
   "cell_type": "code",
   "execution_count": 85,
   "metadata": {
    "collapsed": false,
    "slideshow": {
     "slide_type": "-"
    }
   },
   "outputs": [
    {
     "data": {
      "text/html": [
       "<div>\n",
       "<table border=\"1\" class=\"dataframe\">\n",
       "  <thead>\n",
       "    <tr style=\"text-align: right;\">\n",
       "      <th></th>\n",
       "      <th>tmax</th>\n",
       "      <th>tmin</th>\n",
       "      <th>prcp</th>\n",
       "    </tr>\n",
       "    <tr>\n",
       "      <th>date</th>\n",
       "      <th></th>\n",
       "      <th></th>\n",
       "      <th></th>\n",
       "    </tr>\n",
       "  </thead>\n",
       "  <tbody>\n",
       "    <tr>\n",
       "      <th>1885-01-01</th>\n",
       "      <td>NaN</td>\n",
       "      <td>NaN</td>\n",
       "      <td>NaN</td>\n",
       "    </tr>\n",
       "    <tr>\n",
       "      <th>1885-02-01</th>\n",
       "      <td>260.0</td>\n",
       "      <td>86.0</td>\n",
       "      <td>118.0</td>\n",
       "    </tr>\n",
       "    <tr>\n",
       "      <th>1885-03-01</th>\n",
       "      <td>328.0</td>\n",
       "      <td>151.0</td>\n",
       "      <td>78.0</td>\n",
       "    </tr>\n",
       "    <tr>\n",
       "      <th>1885-04-01</th>\n",
       "      <td>553.0</td>\n",
       "      <td>351.0</td>\n",
       "      <td>291.0</td>\n",
       "    </tr>\n",
       "    <tr>\n",
       "      <th>1885-05-01</th>\n",
       "      <td>625.0</td>\n",
       "      <td>427.0</td>\n",
       "      <td>419.0</td>\n",
       "    </tr>\n",
       "  </tbody>\n",
       "</table>\n",
       "</div>"
      ],
      "text/plain": [
       "             tmax   tmin   prcp\n",
       "date                           \n",
       "1885-01-01    NaN    NaN    NaN\n",
       "1885-02-01  260.0   86.0  118.0\n",
       "1885-03-01  328.0  151.0   78.0\n",
       "1885-04-01  553.0  351.0  291.0\n",
       "1885-05-01  625.0  427.0  419.0"
      ]
     },
     "execution_count": 85,
     "metadata": {},
     "output_type": "execute_result"
    }
   ],
   "source": [
    "bluehill_df = ushcn_data.loc[190736]\n",
    "bluehill_df.head()"
   ]
  },
  {
   "cell_type": "markdown",
   "metadata": {
    "slideshow": {
     "slide_type": "-"
    }
   },
   "source": [
    "*Note - selecting a single value from an index truncates that index level*"
   ]
  },
  {
   "cell_type": "markdown",
   "metadata": {
    "slideshow": {
     "slide_type": "subslide"
    }
   },
   "source": [
    "### Grouped Operations\n",
    "\n",
    "<img src=\"figs/grouped_wesm.png\">\n",
    "\n",
    "<center>Figure 9-1 from \"Python for Data Analysis\" by Wes McKinney</center>"
   ]
  },
  {
   "cell_type": "markdown",
   "metadata": {},
   "source": [
    "### Monthly Anomalies"
   ]
  },
  {
   "cell_type": "code",
   "execution_count": 87,
   "metadata": {
    "collapsed": false,
    "run_control": {
     "frozen": false,
     "read_only": false
    },
    "slideshow": {
     "slide_type": "subslide"
    }
   },
   "outputs": [
    {
     "data": {
      "text/plain": [
       "<matplotlib.legend.Legend at 0x117aaed68>"
      ]
     },
     "execution_count": 87,
     "metadata": {},
     "output_type": "execute_result"
    },
    {
     "data": {
      "image/png": "[encoded data removed]",
      "text/plain": [
       "<matplotlib.figure.Figure at 0x117aae710>"
      ]
     },
     "metadata": {},
     "output_type": "display_data"
    }
   ],
   "source": [
    "def _anom(x):\n",
    "    \"\"\" De-mean a set of data. \"\"\"\n",
    "    return x - x.mean()\n",
    "\n",
    "# Deseasonalize by removing monhtly means\n",
    "bluehill_anoms = (\n",
    "    bluehill_df\n",
    "     # Split on the \"month\" of each datestamp in the index\n",
    "     .groupby(lambda x: x.month)\n",
    "     .apply(_anom)\n",
    ")\n",
    "\n",
    "figsize = (5., 3.)\n",
    "bluehill_df.tmax.plot(figsize=figsize, lw=1., label=\"TMAX\")\n",
    "bluehill_anoms.tmax.plot(lw=1, label=\"Anomaly\")\n",
    "plt.legend(bbox_to_anchor=(1.4, 1.))"
   ]
  },
  {
   "cell_type": "markdown",
   "metadata": {
    "slideshow": {
     "slide_type": "subslide"
    }
   },
   "source": [
    "### Stations with Largest Diurnal T Difference"
   ]
  },
  {
   "cell_type": "code",
   "execution_count": 88,
   "metadata": {
    "collapsed": false,
    "run_control": {
     "frozen": false,
     "read_only": false
    },
    "slideshow": {
     "slide_type": "-"
    }
   },
   "outputs": [
    {
     "data": {
      "text/plain": [
       "COOP_ID  month\n",
       "11084    1        313.0\n",
       "         2        333.0\n",
       "         3        346.0\n",
       "         4        362.0\n",
       "         5        371.0\n",
       "Name: diurnal, dtype: float64"
      ]
     },
     "execution_count": 88,
     "metadata": {},
     "output_type": "execute_result"
    }
   ],
   "source": [
    "tdata = (\n",
    "    ushcn_data.reset_index('COOP_ID')\n",
    "    .assign(\n",
    "        diurnal=lambda x: x['tmax'] - x['tmin'],\n",
    "        month=lambda x: x.index.month\n",
    "    )\n",
    ")\n",
    "\n",
    "# Compute the max diurnal difference for each month, for each station\n",
    "diffs = tdata['diurnal'].groupby([tdata['COOP_ID'], tdata['month']]).max()\n",
    "diffs.head()"
   ]
  },
  {
   "cell_type": "code",
   "execution_count": 135,
   "metadata": {
    "collapsed": false,
    "run_control": {
     "frozen": false,
     "read_only": false
    },
    "slideshow": {
     "slide_type": "subslide"
    }
   },
   "outputs": [
    {
     "data": {
      "text/html": [
       "<div>\n",
       "<table border=\"1\" class=\"dataframe\">\n",
       "  <thead>\n",
       "    <tr style=\"text-align: right;\">\n",
       "      <th></th>\n",
       "      <th></th>\n",
       "      <th>count</th>\n",
       "    </tr>\n",
       "    <tr>\n",
       "      <th>STATE</th>\n",
       "      <th>month</th>\n",
       "      <th></th>\n",
       "    </tr>\n",
       "  </thead>\n",
       "  <tbody>\n",
       "    <tr>\n",
       "      <th rowspan=\"5\" valign=\"top\">CA</th>\n",
       "      <th>2</th>\n",
       "      <td>1</td>\n",
       "    </tr>\n",
       "    <tr>\n",
       "      <th>3</th>\n",
       "      <td>1</td>\n",
       "    </tr>\n",
       "    <tr>\n",
       "      <th>4</th>\n",
       "      <td>1</td>\n",
       "    </tr>\n",
       "    <tr>\n",
       "      <th>5</th>\n",
       "      <td>2</td>\n",
       "    </tr>\n",
       "    <tr>\n",
       "      <th>6</th>\n",
       "      <td>2</td>\n",
       "    </tr>\n",
       "  </tbody>\n",
       "</table>\n",
       "</div>"
      ],
      "text/plain": [
       "             count\n",
       "STATE month       \n",
       "CA    2          1\n",
       "      3          1\n",
       "      4          1\n",
       "      5          2\n",
       "      6          2"
      ]
     },
     "execution_count": 135,
     "metadata": {},
     "output_type": "execute_result"
    }
   ],
   "source": [
    "top_100 = (\n",
    "    diffs\n",
    "    # Compute the top 100 largest diurnal differences\n",
    "    .reset_index().sort_values('diurnal').head(100)\n",
    "    # Merge the station data on to this subset\n",
    "    .pipe(pd.merge, stations.reset_index(), on='COOP_ID')\n",
    "    # Group by state and month\n",
    "    .groupby(['STATE', 'month']).count()\n",
    "    ['COOP_ID']\n",
    ")\n",
    "top_100 = pd.DataFrame({'count': top_100})\n",
    "top_100.head()"
   ]
  },
  {
   "cell_type": "markdown",
   "metadata": {
    "slideshow": {
     "slide_type": "subslide"
    }
   },
   "source": [
    "#### Top 100 - Month Frequency"
   ]
  },
  {
   "cell_type": "code",
   "execution_count": 142,
   "metadata": {
    "collapsed": true
   },
   "outputs": [],
   "source": [
    "month_map = { i: val for i, val in \n",
    "              enumerate(['Jan', 'Feb', 'Mar', 'Apr', 'May', 'Jun',\n",
    "                         'Jul', 'Aug', 'Sep', 'Oct', 'Nov', 'Dec'])}"
   ]
  },
  {
   "cell_type": "code",
   "execution_count": 144,
   "metadata": {
    "collapsed": false,
    "slideshow": {
     "slide_type": "-"
    }
   },
   "outputs": [
    {
     "data": {
      "text/plain": [
       "<matplotlib.axes._subplots.AxesSubplot at 0x11b5e1048>"
      ]
     },
     "execution_count": 144,
     "metadata": {},
     "output_type": "execute_result"
    },
    {
     "data": {
      "image/png": "[encoded data removed]",
      "text/plain": [
       "<matplotlib.figure.Figure at 0x11b5d4c50>"
      ]
     },
     "metadata": {},
     "output_type": "display_data"
    }
   ],
   "source": [
    "(top_100.reset_index()\n",
    " .groupby('month')\n",
    " .sum()\n",
    " .rename(index=month_map)\n",
    " .plot(y='count', kind='pie', figsize=(4, 4), legend=False))"
   ]
  },
  {
   "cell_type": "markdown",
   "metadata": {
    "slideshow": {
     "slide_type": "subslide"
    }
   },
   "source": [
    "#### Top 100 - State Frequency"
   ]
  },
  {
   "cell_type": "code",
   "execution_count": 148,
   "metadata": {
    "collapsed": false
   },
   "outputs": [
    {
     "data": {
      "text/plain": [
       "<matplotlib.axes._subplots.AxesSubplot at 0x11bab3f28>"
      ]
     },
     "execution_count": 148,
     "metadata": {},
     "output_type": "execute_result"
    },
    {
     "data": {
      "image/png": "[encoded data removed]",
      "text/plain": [
       "<matplotlib.figure.Figure at 0x11bad1588>"
      ]
     },
     "metadata": {},
     "output_type": "display_data"
    }
   ],
   "source": [
    "(top_100.reset_index()\n",
    " .groupby('STATE')\n",
    " .sum()\n",
    " .plot(y='count', kind='pie', figsize=(4, 4), legend=False))"
   ]
  },
  {
   "cell_type": "markdown",
   "metadata": {
    "slideshow": {
     "slide_type": "subslide"
    }
   },
   "source": [
    "### Flexible Plotting\n",
    "\n",
    "Pandas directly wraps matplotlib for quick access, and matplotlib has functionality to read data structures like DataFrames. "
   ]
  },
  {
   "cell_type": "code",
   "execution_count": 149,
   "metadata": {
    "collapsed": true,
    "run_control": {
     "frozen": false,
     "read_only": false
    },
    "slideshow": {
     "slide_type": "skip"
    }
   },
   "outputs": [],
   "source": [
    "def get_axs(nrows=1, ncols=1, size=4., aspect=16./10.):\n",
    "    nrows, ncols = 1, 2\n",
    "    size, aspect = 4., 16./10.\n",
    "    width, height = size*ncols*aspect, size*nrows\n",
    "\n",
    "    fig, axs = plt.subplots(nrows, ncols, figsize=(width, height))\n",
    "    return axs"
   ]
  },
  {
   "cell_type": "code",
   "execution_count": 150,
   "metadata": {
    "collapsed": false,
    "run_control": {
     "frozen": false,
     "read_only": false
    }
   },
   "outputs": [
    {
     "data": {
      "text/plain": [
       "<matplotlib.collections.PathCollection at 0x14eabdb70>"
      ]
     },
     "execution_count": 150,
     "metadata": {},
     "output_type": "execute_result"
    },
    {
     "data": {
      "image/png": "[encoded data removed]",
      "text/plain": [
       "<matplotlib.figure.Figure at 0x14e621470>"
      ]
     },
     "metadata": {},
     "output_type": "display_data"
    }
   ],
   "source": [
    "ax1, ax2 = get_axs(ncols=1)\n",
    "style = dict(marker='.')\n",
    "\n",
    "# Plot using pandas\n",
    "bluehill_anoms.plot(x='tmax', y='tmin', kind='scatter', ax=ax1, **style)\n",
    "\n",
    "# Plot using matplotlib\n",
    "ax2.scatter('tmax', 'tmin', data=bluehill_anoms, **style)"
   ]
  },
  {
   "cell_type": "markdown",
   "metadata": {
    "collapsed": true,
    "run_control": {
     "frozen": false,
     "read_only": false
    },
    "slideshow": {
     "slide_type": "slide"
    }
   },
   "source": [
    "# Conclusions"
   ]
  },
  {
   "cell_type": "markdown",
   "metadata": {
    "slideshow": {
     "slide_type": "fragment"
    }
   },
   "source": [
    "### Pandas...\n",
    "\n",
    "1. ... is a powerful tool for manipulating your labeled and tabular data\n",
    "2. ... provides built-in features that enable you to more easily and efficiently explore your data\n",
    "3. ... is easy to pick up and use in your analysis workflow"
   ]
  },
  {
   "cell_type": "markdown",
   "metadata": {
    "slideshow": {
     "slide_type": "fragment"
    }
   },
   "source": [
    "*Enjoy your analysis*... **use pandas!**"
   ]
  },
  {
   "cell_type": "markdown",
   "metadata": {
    "slideshow": {
     "slide_type": "slide"
    }
   },
   "source": [
    "# Additional Information"
   ]
  },
  {
   "cell_type": "markdown",
   "metadata": {},
   "source": [
    "- [Pandas Documentation](http://pandas.pydata.org/)\n",
    "- Tom Augspurger's \"[Modern Pandas](https://tomaugspurger.github.io/modern-1.html)\" Series\n",
    "    - [Modern Pandas](https://tomaugspurger.github.io/modern-1.html)\n",
    "    - [Method Chaining](https://tomaugspurger.github.io/method-chaining.html)\n",
    "    - [Indexes](https://tomaugspurger.github.io/modern-3-indexes.html)\n",
    "    - [Performance](https://tomaugspurger.github.io/modern-4-performance.html)\n",
    "    - [Tidy Data](https://tomaugspurger.github.io/modern-5-tidy.html)\n",
    "    - [Visualization](https://tomaugspurger.github.io/modern-6-visualization.html)\n",
    "    - [Time Series](https://tomaugspurger.github.io/modern-7-timeseries.html)\n",
    " - [Wes McKinney's \"Python for Data Analysis\"](http://shop.oreilly.com/product/0636920023784.do) - a fantastic (although slightly outdated in some places) overview of Pandas and how to use it for complex data analysis."
   ]
  }
 ],
 "metadata": {
  "anaconda-cloud": {},
  "celltoolbar": "Slideshow",
  "kernelspec": {
   "display_name": "Python [conda root]",
   "language": "python",
   "name": "conda-root-py"
  },
  "language_info": {
   "codemirror_mode": {
    "name": "ipython",
    "version": 3
   },
   "file_extension": ".py",
   "mimetype": "text/x-python",
   "name": "python",
   "nbconvert_exporter": "python",
   "pygments_lexer": "ipython3",
   "version": "3.5.2"
  },
  "nav_menu": {},
  "nbpresent": {
   "slides": {
    "24588549-bda4-4873-82a5-9556692050a6": {
     "id": "24588549-bda4-4873-82a5-9556692050a6",
     "prev": null,
     "regions": {
      "0f153b3c-5a84-4ee1-9251-f6e38939046e": {
       "attrs": {
        "height": 1,
        "width": 1,
        "x": 0,
        "y": 0
       },
       "content": {
        "cell": "9c8266ed-7e87-4bf8-972e-2e52d2d36282",
        "part": "source"
       },
       "id": "0f153b3c-5a84-4ee1-9251-f6e38939046e"
      }
     },
     "theme": null
    },
    "937964f9-b334-4c57-a162-9ffc7bdece2f": {
     "id": "937964f9-b334-4c57-a162-9ffc7bdece2f",
     "prev": "24588549-bda4-4873-82a5-9556692050a6",
     "regions": {
      "c307102a-9113-4a03-ad4b-007aaab0588f": {
       "attrs": {
        "height": 1,
        "width": 1,
        "x": 0,
        "y": 0
       },
       "content": {
        "cell": "ae270e7f-8f4e-4c95-829a-fd39997a6825",
        "part": "outputs"
       },
       "id": "c307102a-9113-4a03-ad4b-007aaab0588f"
      }
     }
    }
   },
   "themes": {
    "default": "41db92f4-ca9a-4bd4-8197-3ce161c7914a",
    "theme": {}
   }
  },
  "toc": {
   "navigate_menu": true,
   "number_sections": true,
   "sideBar": true,
   "threshold": 6,
   "toc_cell": false,
   "toc_section_display": "block",
   "toc_window_display": true
  }
 },
 "nbformat": 4,
 "nbformat_minor": 2
}
